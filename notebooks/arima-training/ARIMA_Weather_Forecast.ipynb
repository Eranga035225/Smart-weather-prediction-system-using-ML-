{
 "cells": [
  {
   "cell_type": "markdown",
   "id": "f12d811c",
   "metadata": {},
   "source": [
    "# ARIMA Weather Forecasting Notebook"
   ]
  },
  {
   "cell_type": "markdown",
   "id": "900428cc",
   "metadata": {},
   "source": [
    "\n",
    "# ARIMA-Based Weather Forecasting\n",
    "\n",
    "This notebook demonstrates how to build an ARIMA model to forecast weather variables using historical time series data.\n",
    "\n",
    "---\n",
    "\n",
    "## 1. Import Libraries\n"
   ]
  },
  {
   "cell_type": "code",
   "execution_count": null,
   "id": "b4df71fc",
   "metadata": {
    "vscode": {
     "languageId": "plaintext"
    }
   },
   "outputs": [],
   "source": [
    "# 📌 1. Imports and Setup\n",
    "import numpy as np\n",
    "import pandas as pd\n",
    "import matplotlib.pyplot as plt\n",
    "from statsmodels.tsa.arima.model import ARIMA\n",
    "from sklearn.metrics import mean_absolute_error, mean_squared_error, r2_score\n",
    "from datetime import datetime\n",
    "\n",
    "# 📌 2. Load Dataset\n",
    "df = pd.read_csv(\"weatherData.csv\")\n",
    "df.head()\n"
   ]
  },
  {
   "cell_type": "markdown",
   "id": "98b52de7",
   "metadata": {},
   "source": [
    "\n",
    "\n",
    "## 2. Load and Prepare Data\n"
   ]
  },
  {
   "cell_type": "code",
   "execution_count": null,
   "id": "02ca77bb",
   "metadata": {
    "vscode": {
     "languageId": "plaintext"
    }
   },
   "outputs": [],
   "source": []
  },
  {
   "cell_type": "markdown",
   "id": "6b92d47f",
   "metadata": {},
   "source": [
    "\n",
    "\n",
    "## 3. Train-Test Split\n"
   ]
  },
  {
   "cell_type": "markdown",
   "id": "9517dd08",
   "metadata": {},
   "source": [
    "python\n",
    "train_size = int(len(data) * 0.8)\n",
    "train, test = data[:train_size], data[train_size:]\n",
    "\n",
    "print(f'Train Size: {len(train)}, Test Size: {len(test)}')\n"
   ]
  },
  {
   "cell_type": "markdown",
   "id": "b522cb84",
   "metadata": {},
   "source": [
    "\n",
    "\n",
    "## 4. Fit ARIMA Model\n"
   ]
  },
  {
   "cell_type": "markdown",
   "id": "85da5f89",
   "metadata": {},
   "source": [
    "python\n",
    "# Initial ARIMA model\n",
    "model = ARIMA(train, order=(5,1,0))\n",
    "model_fit = model.fit()\n",
    "print(model_fit.summary())\n"
   ]
  },
  {
   "cell_type": "markdown",
   "id": "ef14749c",
   "metadata": {},
   "source": [
    "\n",
    "\n",
    "## 5. Forecast and Plot\n"
   ]
  },
  {
   "cell_type": "markdown",
   "id": "beb69aa8",
   "metadata": {},
   "source": [
    "python\n",
    "forecast = model_fit.forecast(steps=len(test))\n",
    "forecast = pd.Series(forecast, index=test.index)\n",
    "\n",
    "plt.figure(figsize=(12,4))\n",
    "plt.plot(train, label='Training')\n",
    "plt.plot(test, label='Actual')\n",
    "plt.plot(forecast, label='Forecast')\n",
    "plt.legend()\n",
    "plt.title('ARIMA Forecast of Temperature')\n",
    "plt.grid(True)\n",
    "plt.show()\n"
   ]
  },
  {
   "cell_type": "markdown",
   "id": "9b6cd7e7",
   "metadata": {},
   "source": [
    "\n",
    "\n",
    "## 6. Evaluate Model\n"
   ]
  },
  {
   "cell_type": "markdown",
   "id": "02750e02",
   "metadata": {},
   "source": [
    "python\n",
    "mae = mean_absolute_error(test, forecast)\n",
    "rmse = mean_squared_error(test, forecast, squared=False)\n",
    "r2 = r2_score(test, forecast)\n",
    "\n",
    "print(f'MAE: {mae:.2f}')\n",
    "print(f'RMSE: {rmse:.2f}')\n",
    "print(f'R² Score: {r2:.2f}')\n"
   ]
  },
  {
   "cell_type": "markdown",
   "id": "d3acba79",
   "metadata": {},
   "source": [
    "\n",
    "\n",
    "---\n",
    "\n",
    "> You can tune the ARIMA model using AIC/BIC values or tools like auto_arima from pmdarima for optimal performance.\n"
   ]
  }
 ],
 "metadata": {
  "language_info": {
   "name": "python"
  }
 },
 "nbformat": 4,
 "nbformat_minor": 5
}
