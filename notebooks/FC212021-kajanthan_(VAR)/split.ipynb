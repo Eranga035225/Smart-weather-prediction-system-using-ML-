{
 "cells": [
  {
   "cell_type": "code",
   "execution_count": 24,
   "id": "753c1412",
   "metadata": {},
   "outputs": [],
   "source": [
    "import pandas as pd"
   ]
  },
  {
   "cell_type": "code",
   "execution_count": 25,
   "id": "f58b1069",
   "metadata": {},
   "outputs": [],
   "source": [
    "# Load stationarized dataset\n",
    "df = pd.read_csv('weather_data_stationary.csv', index_col=0, parse_dates=True)"
   ]
  },
  {
   "cell_type": "code",
   "execution_count": 26,
   "id": "1c8c6d89",
   "metadata": {},
   "outputs": [],
   "source": [
    "# Define split ratios\n",
    "train_ratio = 0.7\n",
    "val_ratio = 0.15\n",
    "test_ratio = 0.15"
   ]
  },
  {
   "cell_type": "code",
   "execution_count": 27,
   "id": "0829f493",
   "metadata": {},
   "outputs": [],
   "source": [
    "# Calculate number of samples\n",
    "n = len(df)\n",
    "train_end = int(train_ratio * n)\n",
    "val_end = train_end + int(val_ratio * n)"
   ]
  },
  {
   "cell_type": "code",
   "execution_count": 28,
   "id": "8bd3f09f",
   "metadata": {},
   "outputs": [],
   "source": [
    "# Time-based splits\n",
    "train_df = df.iloc[:train_end]\n",
    "val_df = df.iloc[train_end:val_end]\n",
    "test_df = df.iloc[val_end:]"
   ]
  },
  {
   "cell_type": "code",
   "execution_count": 29,
   "id": "73ca6527",
   "metadata": {},
   "outputs": [
    {
     "name": "stdout",
     "output_type": "stream",
     "text": [
      "✅ Train set: (103236, 5)\n",
      "✅ Validation set: (22122, 5)\n",
      "✅ Test set: (22122, 5)\n"
     ]
    }
   ],
   "source": [
    "# Output shapes\n",
    "print(f\"✅ Train set: {train_df.shape}\")\n",
    "print(f\"✅ Validation set: {val_df.shape}\")\n",
    "print(f\"✅ Test set: {test_df.shape}\")\n"
   ]
  },
  {
   "cell_type": "code",
   "execution_count": 30,
   "id": "ed8ad8d7",
   "metadata": {},
   "outputs": [
    {
     "name": "stdout",
     "output_type": "stream",
     "text": [
      "Train/Val/Test split\n"
     ]
    }
   ],
   "source": [
    "# Save the splits\n",
    "train_df.to_csv('splits_data/weather_data_train.csv')\n",
    "val_df.to_csv('splits_data/weather_data_val.csv')\n",
    "test_df.to_csv('splits_data/weather_data_test.csv')\n",
    "\n",
    "print(\"Train/Val/Test split\")"
   ]
  }
 ],
 "metadata": {
  "kernelspec": {
   "display_name": "Python 3",
   "language": "python",
   "name": "python3"
  },
  "language_info": {
   "codemirror_mode": {
    "name": "ipython",
    "version": 3
   },
   "file_extension": ".py",
   "mimetype": "text/x-python",
   "name": "python",
   "nbconvert_exporter": "python",
   "pygments_lexer": "ipython3",
   "version": "3.13.2"
  }
 },
 "nbformat": 4,
 "nbformat_minor": 5
}
