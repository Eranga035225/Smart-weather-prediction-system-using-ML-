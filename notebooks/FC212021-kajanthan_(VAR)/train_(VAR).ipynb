{
 "cells": [
  {
   "cell_type": "code",
   "execution_count": 10,
   "id": "e20781f9",
   "metadata": {},
   "outputs": [],
   "source": [
    "import pandas as pd\n",
    "from statsmodels.tsa.api import VAR\n",
    "import numpy as np\n",
    "import pickle"
   ]
  },
  {
   "cell_type": "code",
   "execution_count": 11,
   "id": "9f27a84f",
   "metadata": {},
   "outputs": [],
   "source": [
    "# Load training data\n",
    "train = pd.read_csv('./splits_data/weather_data_train.csv', index_col=0, parse_dates=True)"
   ]
  },
  {
   "cell_type": "code",
   "execution_count": 12,
   "id": "5f14e0dd",
   "metadata": {},
   "outputs": [
    {
     "name": "stdout",
     "output_type": "stream",
     "text": [
      "Data shape: (103236, 5)\n",
      "Unique values per column:\n",
      " city                  30\n",
      "rainfall             823\n",
      "precipitation_sum    823\n",
      "temperature          142\n",
      "wind_speed           437\n",
      "dtype: int64\n",
      "Correlation matrix (numeric columns only):\n",
      "                    rainfall  precipitation_sum  temperature  wind_speed\n",
      "rainfall           1.000000           1.000000    -0.235527   -0.083794\n",
      "precipitation_sum  1.000000           1.000000    -0.235527   -0.083794\n",
      "temperature       -0.235527          -0.235527     1.000000    0.314445\n",
      "wind_speed        -0.083794          -0.083794     0.314445    1.000000\n"
     ]
    }
   ],
   "source": [
    "# Basic data checks\n",
    "print(\"Data shape:\", train.shape)\n",
    "print(\"Unique values per column:\\n\", train.nunique())\n",
    "print(\"Correlation matrix (numeric columns only):\\n\", train.select_dtypes(include='number').corr())"
   ]
  },
  {
   "cell_type": "code",
   "execution_count": 13,
   "id": "cb88192f",
   "metadata": {},
   "outputs": [],
   "source": [
    "# Drop constant columns (only one unique value)\n",
    "constant_cols = [col for col in train.columns if train[col].nunique() == 1]\n",
    "if constant_cols:\n",
    "    print(f\"Dropping constant columns: {constant_cols}\")\n",
    "    train = train.drop(columns=constant_cols)"
   ]
  },
  {
   "cell_type": "code",
   "execution_count": 14,
   "id": "c0f86326",
   "metadata": {},
   "outputs": [],
   "source": [
    "# Check remaining columns count\n",
    "if train.shape[1] < 2:\n",
    "    print(\"⚠️ Warning: Very few columns remain after dropping constants.\")"
   ]
  },
  {
   "cell_type": "code",
   "execution_count": 15,
   "id": "1db823f4",
   "metadata": {},
   "outputs": [],
   "source": [
    "# Drop rows with missing values\n",
    "train = train.dropna()\n",
    "\n",
    "# Select numeric columns only\n",
    "train_numeric = train.select_dtypes(include='number')\n",
    "\n",
    "# Drop any remaining missing values\n",
    "train_numeric = train_numeric.dropna()"
   ]
  },
  {
   "cell_type": "code",
   "execution_count": 16,
   "id": "6647998f",
   "metadata": {},
   "outputs": [
    {
     "name": "stdout",
     "output_type": "stream",
     "text": [
      "Warning: Singular matrix error during lag order selection."
     ]
    },
    {
     "name": "stderr",
     "output_type": "stream",
     "text": [
      "c:\\Users\\HP\\AppData\\Local\\Programs\\Python\\Python313\\Lib\\site-packages\\statsmodels\\tsa\\base\\tsa_model.py:473: ValueWarning: A date index has been provided, but it has no associated frequency information and so will be ignored when e.g. forecasting.\n",
      "  self._init_dates(dates, freq)\n"
     ]
    },
    {
     "name": "stdout",
     "output_type": "stream",
     "text": [
      "\n",
      "Fitting VAR with lag=1 as fallback.\n",
      "Singular matrix error during model summary printing. Summary skipped.\n"
     ]
    }
   ],
   "source": [
    "# Initialize VAR model with numeric data\n",
    "model = VAR(train_numeric)\n",
    "\n",
    "try:\n",
    "    # Select lag order (maxlags=5)\n",
    "    lag_order_results = model.select_order(maxlags=5)\n",
    "    print(\"Lag order selection results:\")\n",
    "    print(lag_order_results.summary())\n",
    "\n",
    "    # Choose lag with lowest AIC\n",
    "    optimal_lag = lag_order_results.aic.idxmin()\n",
    "    print(f\"Optimal lag order by AIC: {optimal_lag}\")\n",
    "\n",
    "    # Fit VAR model\n",
    "    var_model = model.fit(optimal_lag)\n",
    "except np.linalg.LinAlgError:\n",
    "    print(\"Warning: Singular matrix error during lag order selection.\")\n",
    "    print(\"Fitting VAR with lag=1 as fallback.\")\n",
    "    var_model = model.fit(1)\n",
    "\n",
    "try:\n",
    "    print(var_model.summary())\n",
    "except np.linalg.LinAlgError:\n",
    "    print(\"Singular matrix error during model summary printing. Summary skipped.\")"
   ]
  },
  {
   "cell_type": "code",
   "execution_count": 17,
   "id": "38dc7172",
   "metadata": {},
   "outputs": [
    {
     "name": "stdout",
     "output_type": "stream",
     "text": [
      "\n",
      "Durbin-Watson statistics for residuals:\n",
      "rainfall: 2.42\n",
      "precipitation_sum: 2.42\n",
      "temperature: 2.08\n",
      "wind_speed: 2.27\n"
     ]
    }
   ],
   "source": [
    "# Optional: Check residual autocorrelation with Durbin-Watson\n",
    "try:\n",
    "    from statsmodels.stats.stattools import durbin_watson\n",
    "    print(\"\\nDurbin-Watson statistics for residuals:\")\n",
    "    dw_stats = durbin_watson(var_model.resid)\n",
    "    for col_name, dw_val in zip(train_numeric.columns, dw_stats):\n",
    "        print(f\"{col_name}: {dw_val:.2f}\")\n",
    "except ImportError:\n",
    "    print(\"statsmodels not installed; skipping Durbin-Watson test.\")\n",
    "except Exception as e:\n",
    "    print(f\"Error during Durbin-Watson test: {e}\")"
   ]
  },
  {
   "cell_type": "code",
   "execution_count": 18,
   "id": "0b83de17",
   "metadata": {},
   "outputs": [
    {
     "name": "stdout",
     "output_type": "stream",
     "text": [
      "\n",
      " VAR model saved as 'var_model.pkl'\n",
      "\n",
      " VAR model training completed.\n"
     ]
    }
   ],
   "source": [
    "# Save trained VAR model with pickle\n",
    "try:\n",
    "    with open(\"var_model.pkl\", \"wb\") as f:\n",
    "        pickle.dump(var_model, f)\n",
    "    print(\"\\n VAR model saved as 'var_model.pkl'\")\n",
    "except Exception as e:\n",
    "    print(f\" Failed to save VAR model: {e}\")\n",
    "\n",
    "print(\"\\n VAR model training completed.\")"
   ]
  }
 ],
 "metadata": {
  "kernelspec": {
   "display_name": "Python 3",
   "language": "python",
   "name": "python3"
  },
  "language_info": {
   "codemirror_mode": {
    "name": "ipython",
    "version": 3
   },
   "file_extension": ".py",
   "mimetype": "text/x-python",
   "name": "python",
   "nbconvert_exporter": "python",
   "pygments_lexer": "ipython3",
   "version": "3.13.2"
  }
 },
 "nbformat": 4,
 "nbformat_minor": 5
}
