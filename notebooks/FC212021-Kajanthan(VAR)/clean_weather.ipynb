{
 "cells": [
  {
   "cell_type": "code",
   "execution_count": 2,
   "id": "56ae4032",
   "metadata": {},
   "outputs": [],
   "source": [
    "import numpy as np\n",
    "import pandas as pd"
   ]
  },
  {
   "cell_type": "code",
   "execution_count": 3,
   "id": "630db013",
   "metadata": {},
   "outputs": [],
   "source": [
    "# Load dataset\n",
    "df = pd.read_csv('../../data/weather.csv')"
   ]
  },
  {
   "cell_type": "code",
   "execution_count": 4,
   "id": "67198ecc",
   "metadata": {},
   "outputs": [],
   "source": [
    "# Select necessary columns\n",
    "columns_to_keep = [\n",
    "    'time',\n",
    "    'city',\n",
    "    'rain_sum',\n",
    "    'precipitation_sum',\n",
    "    'temperature_2m_mean',\n",
    "    'windspeed_10m_max'\n",
    "]\n",
    "df = df[columns_to_keep]"
   ]
  },
  {
   "cell_type": "code",
   "execution_count": 5,
   "id": "6c3f6e90",
   "metadata": {},
   "outputs": [],
   "source": [
    "# Convert 'time' to datetime and set as index\n",
    "df['time'] = pd.to_datetime(df['time'])\n",
    "df.set_index('time', inplace=True)"
   ]
  },
  {
   "cell_type": "code",
   "execution_count": 6,
   "id": "77dd0c27",
   "metadata": {},
   "outputs": [],
   "source": [
    "# Normalize city names\n",
    "df['city'] = df['city'].str.strip().str.title()"
   ]
  },
  {
   "cell_type": "code",
   "execution_count": 7,
   "id": "6dc95e22",
   "metadata": {},
   "outputs": [],
   "source": [
    "# Drop missing values (or optionally use interpolation)\n",
    "df.dropna(inplace=True)\n",
    "# df = df.interpolate(method='time')  # Optional"
   ]
  },
  {
   "cell_type": "code",
   "execution_count": 8,
   "id": "a7a4b9dc",
   "metadata": {},
   "outputs": [],
   "source": [
    "# Rename columns for clarity\n",
    "df.rename(columns={\n",
    "    'rain_sum': 'rainfall',\n",
    "    'temperature_2m_mean': 'temperature',\n",
    "    'windspeed_10m_max': 'wind_speed'\n",
    "}, inplace=True)\n"
   ]
  },
  {
   "cell_type": "code",
   "execution_count": 9,
   "id": "02e44756",
   "metadata": {},
   "outputs": [
    {
     "name": "stdout",
     "output_type": "stream",
     "text": [
      "✅ Cleaned dataset saved to 'weather_data_cleaned.csv'\n"
     ]
    }
   ],
   "source": [
    "# Save cleaned dataset\n",
    "cleaned_path = 'weather_data_cleaned.csv'\n",
    "df.to_csv(cleaned_path, index=True)\n",
    "print(f\"✅ Cleaned dataset saved to '{cleaned_path}'\")"
   ]
  }
 ],
 "metadata": {
  "kernelspec": {
   "display_name": "Python 3",
   "language": "python",
   "name": "python3"
  },
  "language_info": {
   "codemirror_mode": {
    "name": "ipython",
    "version": 3
   },
   "file_extension": ".py",
   "mimetype": "text/x-python",
   "name": "python",
   "nbconvert_exporter": "python",
   "pygments_lexer": "ipython3",
   "version": "3.13.2"
  }
 },
 "nbformat": 4,
 "nbformat_minor": 5
}
