{
 "cells": [
  {
   "cell_type": "code",
   "execution_count": 1,
   "id": "4d95802a",
   "metadata": {},
   "outputs": [],
   "source": [
    "import pandas as pd\n",
    "import matplotlib.pyplot as plt\n",
    "import seaborn as sns\n",
    "from sklearn.metrics import mean_squared_error, r2_score\n",
    "import os"
   ]
  },
  {
   "cell_type": "markdown",
   "id": "e8840d52",
   "metadata": {},
   "source": [
    "### Load predictions"
   ]
  },
  {
   "cell_type": "code",
   "execution_count": 2,
   "id": "5ce69e1a",
   "metadata": {},
   "outputs": [],
   "source": [
    "df = pd.read_csv(\"prediction_results/predicted_weather.csv\")"
   ]
  },
  {
   "cell_type": "markdown",
   "id": "10106653",
   "metadata": {},
   "source": [
    "### Check columns exist"
   ]
  },
  {
   "cell_type": "code",
   "execution_count": 3,
   "id": "b1da63f3",
   "metadata": {},
   "outputs": [],
   "source": [
    "actual_col = \"temperature_2m_mean (°C)\"\n",
    "predicted_col = \"predicted_temperature\"\n",
    "if actual_col not in df.columns or predicted_col not in df.columns:\n",
    "    raise ValueError(\"Required columns not found in predicted_weather.csv\")"
   ]
  },
  {
   "cell_type": "markdown",
   "id": "8118b9e8",
   "metadata": {},
   "source": [
    "### Compute metrics"
   ]
  },
  {
   "cell_type": "code",
   "execution_count": null,
   "id": "806669f5",
   "metadata": {},
   "outputs": [
    {
     "name": "stdout",
     "output_type": "stream",
     "text": [
      "\n",
      "📊 Evaluation Metrics:\n",
      "RMSE: 0.16\n",
      "R² Score: 0.9971\n"
     ]
    }
   ],
   "source": [
    "from sklearn.metrics import mean_squared_error, r2_score\n",
    "import numpy as np\n",
    "\n",
    "mse = mean_squared_error(df[actual_col], df[predicted_col])\n",
    "rmse = np.sqrt(mse)\n",
    "r2 = r2_score(df[actual_col], df[predicted_col])\n",
    "print(f\"\\n📊 Evaluation Metrics:\")\n",
    "print(f\"RMSE: {rmse:.2f}\")\n",
    "print(f\"R² Score: {r2:.4f}\")\n",
    "\n"
   ]
  },
  {
   "cell_type": "markdown",
   "id": "265cbad2",
   "metadata": {},
   "source": [
    "### Create output folder"
   ]
  },
  {
   "cell_type": "code",
   "execution_count": 8,
   "id": "142aa076",
   "metadata": {},
   "outputs": [],
   "source": [
    "os.makedirs(\"model_evaluation\", exist_ok=True)"
   ]
  },
  {
   "cell_type": "markdown",
   "id": "e2bcdb93",
   "metadata": {},
   "source": [
    "### Line Plot: Actual vs Predicted"
   ]
  },
  {
   "cell_type": "code",
   "execution_count": 9,
   "id": "9b7c6d77",
   "metadata": {},
   "outputs": [],
   "source": [
    "df_sorted = df.sort_values(by=\"date\")\n",
    "plt.figure(figsize=(14, 6))\n",
    "plt.plot(df_sorted[\"date\"], df_sorted[actual_col], label=\"Actual\", alpha=0.7)\n",
    "plt.plot(df_sorted[\"date\"], df_sorted[predicted_col], label=\"Predicted\", alpha=0.7)\n",
    "plt.title(\"Actual vs Predicted Temperature Over Time\")\n",
    "plt.xlabel(\"Date\")\n",
    "plt.ylabel(\"Temperature (°C)\")\n",
    "plt.legend()\n",
    "plt.xticks(rotation=45)\n",
    "plt.tight_layout()\n",
    "plt.savefig(\"model_evaluation/actual_vs_predicted_line.png\")\n",
    "plt.close()"
   ]
  },
  {
   "cell_type": "markdown",
   "id": "3513ce67",
   "metadata": {},
   "source": [
    "### Scatter Plot: Predicted vs Actual"
   ]
  },
  {
   "cell_type": "code",
   "execution_count": 10,
   "id": "b536ce19",
   "metadata": {},
   "outputs": [
    {
     "name": "stdout",
     "output_type": "stream",
     "text": [
      "\n",
      " Evaluation complete. Plots saved in 'model_evaluation/'\n"
     ]
    }
   ],
   "source": [
    "plt.figure(figsize=(6, 6))\n",
    "sns.scatterplot(x=df[actual_col], y=df[predicted_col], alpha=0.5)\n",
    "plt.xlabel(\"Actual Temperature (°C)\")\n",
    "plt.ylabel(\"Predicted Temperature (°C)\")\n",
    "plt.title(\"Predicted vs Actual Temperature\")\n",
    "plt.plot([df[actual_col].min(), df[actual_col].max()],\n",
    "         [df[actual_col].min(), df[actual_col].max()], 'r--')\n",
    "plt.tight_layout()\n",
    "plt.savefig(\"model_evaluation/predicted_vs_actual_scatter.png\")\n",
    "plt.close()\n",
    "\n",
    "print(\"\\n Evaluation complete. Plots saved in 'model_evaluation/'\")\n"
   ]
  }
 ],
 "metadata": {
  "kernelspec": {
   "display_name": "Python 3",
   "language": "python",
   "name": "python3"
  },
  "language_info": {
   "codemirror_mode": {
    "name": "ipython",
    "version": 3
   },
   "file_extension": ".py",
   "mimetype": "text/x-python",
   "name": "python",
   "nbconvert_exporter": "python",
   "pygments_lexer": "ipython3",
   "version": "3.13.5"
  }
 },
 "nbformat": 4,
 "nbformat_minor": 5
}
