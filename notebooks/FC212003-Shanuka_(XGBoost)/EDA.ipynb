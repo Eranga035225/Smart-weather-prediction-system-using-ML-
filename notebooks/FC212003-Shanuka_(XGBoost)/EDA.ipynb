{
 "cells": [
  {
   "cell_type": "code",
   "execution_count": 26,
   "id": "7dbe942e",
   "metadata": {},
   "outputs": [],
   "source": [
    "import pandas as pd\n",
    "import matplotlib.pyplot as plt\n",
    "import seaborn as sns\n",
    "import os"
   ]
  },
  {
   "cell_type": "code",
   "execution_count": 27,
   "id": "24c4568b",
   "metadata": {},
   "outputs": [
    {
     "name": "stdout",
     "output_type": "stream",
     "text": [
      "c:\\Users\\Shanuka Dilshan\\OneDrive - sci.sjp.ac.lk\\Desktop\\5th Semester\\Machine Learning(ML)\\ML-Group-Project\\Smart-weather-prediction-system-using-ML-\\notebooks\\FC212003-Shanuka_(XGBoost)\n"
     ]
    }
   ],
   "source": [
    "import os\n",
    "print(os.getcwd())"
   ]
  },
  {
   "cell_type": "markdown",
   "id": "2e562bb7",
   "metadata": {},
   "source": [
    "### Load the cleaned merged dataset"
   ]
  },
  {
   "cell_type": "code",
   "execution_count": 28,
   "id": "dd6b56c6",
   "metadata": {},
   "outputs": [],
   "source": [
    "df = pd.read_csv(\"data/merged_cleaned_weather_data.csv\")"
   ]
  },
  {
   "cell_type": "markdown",
   "id": "a758bfda",
   "metadata": {},
   "source": [
    "### Create output directory for plots"
   ]
  },
  {
   "cell_type": "code",
   "execution_count": 29,
   "id": "0c6de47f",
   "metadata": {},
   "outputs": [],
   "source": [
    "os.makedirs(\"eda_plots\", exist_ok=True)"
   ]
  },
  {
   "cell_type": "markdown",
   "id": "ed3d17d9",
   "metadata": {},
   "source": [
    "### Basic Info"
   ]
  },
  {
   "cell_type": "code",
   "execution_count": 30,
   "id": "7c03a258",
   "metadata": {},
   "outputs": [
    {
     "name": "stdout",
     "output_type": "stream",
     "text": [
      "\n",
      "🔍 Dataset Info:\n",
      "<class 'pandas.core.frame.DataFrame'>\n",
      "RangeIndex: 142371 entries, 0 to 142370\n",
      "Data columns (total 27 columns):\n",
      " #   Column                           Non-Null Count   Dtype  \n",
      "---  ------                           --------------   -----  \n",
      " 0   location_id                      142371 non-null  int64  \n",
      " 1   date                             142371 non-null  object \n",
      " 2   weather_code (wmo code)          142371 non-null  int64  \n",
      " 3   temperature_2m_max (°C)          142371 non-null  float64\n",
      " 4   temperature_2m_min (°C)          142371 non-null  float64\n",
      " 5   temperature_2m_mean (°C)         142371 non-null  float64\n",
      " 6   apparent_temperature_max (°C)    142371 non-null  float64\n",
      " 7   apparent_temperature_min (°C)    142371 non-null  float64\n",
      " 8   apparent_temperature_mean (°C)   142371 non-null  float64\n",
      " 9   daylight_duration (s)            142371 non-null  float64\n",
      " 10  sunshine_duration (s)            142371 non-null  float64\n",
      " 11  precipitation_sum (mm)           142371 non-null  float64\n",
      " 12  rain_sum (mm)                    142371 non-null  float64\n",
      " 13  precipitation_hours (h)          142371 non-null  int64  \n",
      " 14  wind_speed_10m_max (km/h)        142371 non-null  float64\n",
      " 15  wind_gusts_10m_max (km/h)        142371 non-null  float64\n",
      " 16  wind_direction_10m_dominant (°)  142371 non-null  int64  \n",
      " 17  shortwave_radiation_sum (MJ/m²)  142371 non-null  float64\n",
      " 18  et0_fao_evapotranspiration (mm)  142371 non-null  float64\n",
      " 19  latitude                         142371 non-null  float64\n",
      " 20  longitude                        142371 non-null  float64\n",
      " 21  elevation                        142371 non-null  int64  \n",
      " 22  utc_offset_seconds               142371 non-null  int64  \n",
      " 23  city_name                        142371 non-null  int64  \n",
      " 24  month                            142371 non-null  int64  \n",
      " 25  day                              142371 non-null  int64  \n",
      " 26  dayofweek                        142371 non-null  int64  \n",
      "dtypes: float64(16), int64(10), object(1)\n",
      "memory usage: 29.3+ MB\n",
      "None\n",
      "\n",
      "📊 Summary Statistics:\n",
      "         location_id  weather_code (wmo code)  temperature_2m_max (°C)  \\\n",
      "count  142371.000000            142371.000000            142371.000000   \n",
      "mean       13.000000                44.891586                29.295854   \n",
      "std         7.788908                22.840879                 3.352774   \n",
      "min         0.000000                 0.000000                14.100000   \n",
      "25%         6.000000                51.000000                27.700000   \n",
      "50%        13.000000                53.000000                29.300000   \n",
      "75%        20.000000                61.000000                31.300000   \n",
      "max        26.000000                65.000000                40.300000   \n",
      "\n",
      "       temperature_2m_min (°C)  temperature_2m_mean (°C)  \\\n",
      "count            142371.000000             142371.000000   \n",
      "mean                 23.120601                 25.730017   \n",
      "std                   3.165760                  2.954064   \n",
      "min                   5.300000                 12.100000   \n",
      "25%                  22.000000                 24.700000   \n",
      "50%                  23.800000                 26.200000   \n",
      "75%                  25.200000                 27.600000   \n",
      "max                  30.300000                 32.700000   \n",
      "\n",
      "       apparent_temperature_max (°C)  apparent_temperature_min (°C)  \\\n",
      "count                  142371.000000                  142371.000000   \n",
      "mean                       33.560477                      26.362139   \n",
      "std                         4.183799                       4.196010   \n",
      "min                        11.000000                       2.000000   \n",
      "25%                        31.400000                      25.100000   \n",
      "50%                        33.900000                      27.600000   \n",
      "75%                        36.300000                      29.100000   \n",
      "max                        46.100000                      35.600000   \n",
      "\n",
      "       apparent_temperature_mean (°C)  daylight_duration (s)  \\\n",
      "count                   142371.000000          142371.000000   \n",
      "mean                        29.234477           43645.975220   \n",
      "std                          3.837440            1099.470021   \n",
      "min                          9.500000           41610.710000   \n",
      "25%                         27.900000           42607.350000   \n",
      "50%                         30.100000           43648.880000   \n",
      "75%                         31.600000           44685.075000   \n",
      "max                         37.700000           45676.100000   \n",
      "\n",
      "       sunshine_duration (s)  ...  shortwave_radiation_sum (MJ/m²)  \\\n",
      "count          142371.000000  ...                    142371.000000   \n",
      "mean            34676.319743  ...                        18.933608   \n",
      "std              8910.054804  ...                         4.398970   \n",
      "min                 0.000000  ...                         1.120000   \n",
      "25%             32883.955000  ...                        16.570000   \n",
      "50%             38819.230000  ...                        19.710000   \n",
      "75%             39898.010000  ...                        22.090000   \n",
      "max             42231.340000  ...                        29.400000   \n",
      "\n",
      "       et0_fao_evapotranspiration (mm)       latitude      longitude  \\\n",
      "count                    142371.000000  142371.000000  142371.000000   \n",
      "mean                          4.115296       7.536289      80.616009   \n",
      "std                           1.179600       1.008947       0.511603   \n",
      "min                           0.380000       5.940246      79.846150   \n",
      "25%                           3.350000       6.854130      80.233730   \n",
      "50%                           4.110000       7.275923      80.534480   \n",
      "75%                           4.890000       8.330404      81.015360   \n",
      "max                           8.450000       9.666080      81.693474   \n",
      "\n",
      "           elevation  utc_offset_seconds      city_name          month  \\\n",
      "count  142371.000000            142371.0  142371.000000  142371.000000   \n",
      "mean      245.777778             19800.0      13.000000       6.421202   \n",
      "std       449.345737                 0.0       7.788908       3.454946   \n",
      "min         4.000000             19800.0       0.000000       1.000000   \n",
      "25%         8.000000             19800.0       6.000000       3.000000   \n",
      "50%        38.000000             19800.0      13.000000       6.000000   \n",
      "75%       172.000000             19800.0      20.000000       9.000000   \n",
      "max      1865.000000             19800.0      26.000000      12.000000   \n",
      "\n",
      "                 day      dayofweek  \n",
      "count  142371.000000  142371.000000  \n",
      "mean       15.710791       3.000569  \n",
      "std         8.803897       1.999865  \n",
      "min         1.000000       0.000000  \n",
      "25%         8.000000       1.000000  \n",
      "50%        16.000000       3.000000  \n",
      "75%        23.000000       5.000000  \n",
      "max        31.000000       6.000000  \n",
      "\n",
      "[8 rows x 26 columns]\n"
     ]
    }
   ],
   "source": [
    "print(\"\\n🔍 Dataset Info:\")\n",
    "print(df.info())\n",
    "\n",
    "print(\"\\n📊 Summary Statistics:\")\n",
    "print(df.describe())"
   ]
  },
  {
   "cell_type": "markdown",
   "id": "a91ed382",
   "metadata": {},
   "source": [
    "### Missing Values"
   ]
  },
  {
   "cell_type": "code",
   "execution_count": 31,
   "id": "bd28d824",
   "metadata": {},
   "outputs": [
    {
     "name": "stdout",
     "output_type": "stream",
     "text": [
      "\n",
      "❓ Missing Values:\n",
      "Series([], dtype: int64)\n"
     ]
    }
   ],
   "source": [
    "missing = df.isnull().sum()\n",
    "print(\"\\n❓ Missing Values:\")\n",
    "print(missing[missing > 0])"
   ]
  },
  {
   "cell_type": "markdown",
   "id": "cb961c04",
   "metadata": {},
   "source": [
    "### Correlation Heatmap"
   ]
  },
  {
   "cell_type": "code",
   "execution_count": 32,
   "id": "86e99a67",
   "metadata": {},
   "outputs": [],
   "source": [
    "plt.figure(figsize=(14, 10))\n",
    "sns.heatmap(df.corr(numeric_only=True), cmap=\"coolwarm\", annot=False)\n",
    "plt.title(\"Correlation Heatmap\")\n",
    "plt.tight_layout()\n",
    "plt.savefig(\"eda_plots/correlation_heatmap.png\")\n",
    "plt.close()"
   ]
  },
  {
   "cell_type": "markdown",
   "id": "5ecc2e10",
   "metadata": {},
   "source": [
    "### Distribution Plots for Key Features"
   ]
  },
  {
   "cell_type": "code",
   "execution_count": 33,
   "id": "eb69e55e",
   "metadata": {},
   "outputs": [],
   "source": [
    "features = [\n",
    "    \"temperature_2m_mean (°C)\",\n",
    "    \"precipitation_sum (mm)\",\n",
    "    \"rain_sum (mm)\",\n",
    "    \"wind_speed_10m_max (km/h)\",\n",
    "    \"shortwave_radiation_sum (MJ/m²)\"\n",
    "]\n",
    "\n",
    "for feature in features:\n",
    "    plt.figure(figsize=(8, 4))\n",
    "    sns.histplot(df[feature], bins=50, kde=True)\n",
    "    plt.title(f\"Distribution of {feature}\")\n",
    "    plt.tight_layout()\n",
    "    filename = feature.replace(\"/\", \"-\").replace(\" \", \"_\") + \".png\"\n",
    "    plt.savefig(f\"eda_plots/{filename}\")\n",
    "    plt.close()"
   ]
  },
  {
   "cell_type": "markdown",
   "id": "42951f4e",
   "metadata": {},
   "source": [
    "### Time Trends Example (Temperature)"
   ]
  },
  {
   "cell_type": "code",
   "execution_count": 34,
   "id": "9787355e",
   "metadata": {},
   "outputs": [],
   "source": [
    "df['date'] = pd.to_datetime(df['date'], errors='coerce')\n",
    "temp_trend = df.groupby(\"date\")[\"temperature_2m_mean (°C)\"].mean()\n",
    "temp_trend.plot(figsize=(12, 5), title=\"Average Temperature Over Time\")\n",
    "plt.ylabel(\"Mean Temp (°C)\")\n",
    "plt.tight_layout()\n",
    "plt.savefig(\"eda_plots/temperature_trend.png\")\n",
    "plt.close()"
   ]
  },
  {
   "cell_type": "code",
   "execution_count": 35,
   "id": "279f2135",
   "metadata": {},
   "outputs": [
    {
     "name": "stdout",
     "output_type": "stream",
     "text": [
      "\n",
      " EDA completed. Plots saved in 'outputs/eda_plots/'\n"
     ]
    }
   ],
   "source": [
    "print(\"\\n EDA completed. Plots saved in 'outputs/eda_plots/'\")"
   ]
  }
 ],
 "metadata": {
  "kernelspec": {
   "display_name": "Python 3",
   "language": "python",
   "name": "python3"
  },
  "language_info": {
   "codemirror_mode": {
    "name": "ipython",
    "version": 3
   },
   "file_extension": ".py",
   "mimetype": "text/x-python",
   "name": "python",
   "nbconvert_exporter": "python",
   "pygments_lexer": "ipython3",
   "version": "3.13.5"
  }
 },
 "nbformat": 4,
 "nbformat_minor": 5
}
