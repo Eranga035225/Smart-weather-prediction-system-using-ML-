{
 "cells": [
  {
   "cell_type": "code",
   "execution_count": 1,
   "id": "20bb0286",
   "metadata": {},
   "outputs": [],
   "source": [
    "import pandas as pd\n",
    "import xgboost as xgb\n",
    "import sys\n",
    "import os"
   ]
  },
  {
   "cell_type": "markdown",
   "id": "7963de60",
   "metadata": {},
   "source": [
    "### Load model"
   ]
  },
  {
   "cell_type": "code",
   "execution_count": 3,
   "id": "db0ef6ee",
   "metadata": {},
   "outputs": [
    {
     "name": "stdout",
     "output_type": "stream",
     "text": [
      "Model loaded.\n"
     ]
    }
   ],
   "source": [
    "model_path = \"trained_xgboost_models/xgboost_model.json\"\n",
    "if not os.path.exists(model_path):\n",
    "    print(\"Trained model not found. Run train_xgboost.py first.\")\n",
    "    sys.exit(1)\n",
    "\n",
    "model = xgb.XGBRegressor()\n",
    "model.load_model(model_path)\n",
    "print(\"Model loaded.\")"
   ]
  },
  {
   "cell_type": "markdown",
   "id": "c4702612",
   "metadata": {},
   "source": [
    "### Load cleaned dataset"
   ]
  },
  {
   "cell_type": "code",
   "execution_count": 4,
   "id": "6934f889",
   "metadata": {},
   "outputs": [],
   "source": [
    "input_path = \"data/merged_cleaned_weather_data.csv\"\n",
    "df = pd.read_csv(input_path)"
   ]
  },
  {
   "cell_type": "markdown",
   "id": "5ef131a2",
   "metadata": {},
   "source": [
    "### Prepare features (same as training)"
   ]
  },
  {
   "cell_type": "code",
   "execution_count": 5,
   "id": "e35bd706",
   "metadata": {},
   "outputs": [],
   "source": [
    "target_col = \"temperature_2m_mean (°C)\"\n",
    "features = df.drop(columns=[\"date\", target_col])"
   ]
  },
  {
   "cell_type": "markdown",
   "id": "4ced1b69",
   "metadata": {},
   "source": [
    "### Make predictions"
   ]
  },
  {
   "cell_type": "code",
   "execution_count": 6,
   "id": "a8fabe84",
   "metadata": {},
   "outputs": [],
   "source": [
    "predictions = model.predict(features)\n",
    "df[\"predicted_temperature\"] = predictions"
   ]
  },
  {
   "cell_type": "markdown",
   "id": "570edac0",
   "metadata": {},
   "source": [
    "### Save prediction results"
   ]
  },
  {
   "cell_type": "code",
   "execution_count": 9,
   "id": "becaf984",
   "metadata": {},
   "outputs": [
    {
     "name": "stdout",
     "output_type": "stream",
     "text": [
      "Predictions saved to 'prediction_results/predicted_weather.csv'\n"
     ]
    }
   ],
   "source": [
    "os.makedirs(\"prediction_results\", exist_ok=True)\n",
    "df.to_csv(\"prediction_results/predicted_weather.csv\", index=False)\n",
    "\n",
    "print(\"Predictions saved to 'prediction_results/predicted_weather.csv'\")"
   ]
  },
  {
   "cell_type": "code",
   "execution_count": null,
   "id": "defcf9d0",
   "metadata": {},
   "outputs": [],
   "source": []
  }
 ],
 "metadata": {
  "kernelspec": {
   "display_name": "Python 3",
   "language": "python",
   "name": "python3"
  },
  "language_info": {
   "codemirror_mode": {
    "name": "ipython",
    "version": 3
   },
   "file_extension": ".py",
   "mimetype": "text/x-python",
   "name": "python",
   "nbconvert_exporter": "python",
   "pygments_lexer": "ipython3",
   "version": "3.13.5"
  }
 },
 "nbformat": 4,
 "nbformat_minor": 5
}
