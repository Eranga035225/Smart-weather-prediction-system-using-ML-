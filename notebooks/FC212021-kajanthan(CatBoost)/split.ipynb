{
 "cells": [
  {
   "cell_type": "code",
   "execution_count": 1,
   "id": "3d750606",
   "metadata": {},
   "outputs": [
    {
     "name": "stdout",
     "output_type": "stream",
     "text": [
      "Train set shape: (99603, 37) -> saved to train_test_splits\\train.csv\n",
      "Validation set shape: (21330, 37) -> saved to train_test_splits\\validate.csv\n",
      "Test set shape: (21384, 37) -> saved to train_test_splits\\test.csv\n",
      "Data splits saved inside folder: train_test_splits\n"
     ]
    }
   ],
   "source": [
    "import os\n",
    "import pandas as pd\n",
    "\n",
    "def split_time_series_per_location(df, train_frac=0.7, val_frac=0.15, test_frac=0.15, output_folder=\"train_test_splits\"):\n",
    "    # Check fractions sum to 1\n",
    "    if abs(train_frac + val_frac + test_frac - 1.0) > 1e-6:\n",
    "        raise ValueError(\"Train, val and test fractions must sum to 1.\")\n",
    "    \n",
    "    os.makedirs(output_folder, exist_ok=True)\n",
    "\n",
    "    train_list = []\n",
    "    val_list = []\n",
    "    test_list = []\n",
    "\n",
    "    # Split per location to preserve time order in each location group\n",
    "    for location, group in df.groupby('location_id'):\n",
    "        group = group.sort_values('date')\n",
    "        n = len(group)\n",
    "        train_end = int(n * train_frac)\n",
    "        val_end = train_end + int(n * val_frac)\n",
    "\n",
    "        train_list.append(group.iloc[:train_end])\n",
    "        val_list.append(group.iloc[train_end:val_end])\n",
    "        test_list.append(group.iloc[val_end:])\n",
    "\n",
    "    train_df = pd.concat(train_list).reset_index(drop=True)\n",
    "    val_df = pd.concat(val_list).reset_index(drop=True)\n",
    "    test_df = pd.concat(test_list).reset_index(drop=True)\n",
    "\n",
    "    # Save files\n",
    "    train_path = os.path.join(output_folder, \"train.csv\")\n",
    "    val_path = os.path.join(output_folder, \"validate.csv\")\n",
    "    test_path = os.path.join(output_folder, \"test.csv\")\n",
    "\n",
    "    train_df.to_csv(train_path, index=False)\n",
    "    val_df.to_csv(val_path, index=False)\n",
    "    test_df.to_csv(test_path, index=False)\n",
    "\n",
    "    print(f\"Train set shape: {train_df.shape} -> saved to {train_path}\")\n",
    "    print(f\"Validation set shape: {val_df.shape} -> saved to {val_path}\")\n",
    "    print(f\"Test set shape: {test_df.shape} -> saved to {test_path}\")\n",
    "    print(f\"Data splits saved inside folder: {output_folder}\")\n",
    "\n",
    "    return train_df, val_df, test_df\n",
    "\n",
    "if __name__ == \"__main__\":\n",
    "    df = pd.read_csv(\"feature_engineered_data.csv\", parse_dates=['date'])\n",
    "    df = df.sort_values(['location_id', 'date'])\n",
    "    train_df, val_df, test_df = split_time_series_per_location(df)\n"
   ]
  }
 ],
 "metadata": {
  "kernelspec": {
   "display_name": "Python 3",
   "language": "python",
   "name": "python3"
  },
  "language_info": {
   "codemirror_mode": {
    "name": "ipython",
    "version": 3
   },
   "file_extension": ".py",
   "mimetype": "text/x-python",
   "name": "python",
   "nbconvert_exporter": "python",
   "pygments_lexer": "ipython3",
   "version": "3.13.2"
  }
 },
 "nbformat": 4,
 "nbformat_minor": 5
}
