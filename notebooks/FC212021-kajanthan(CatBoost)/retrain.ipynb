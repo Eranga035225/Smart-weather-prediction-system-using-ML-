{
 "cells": [
  {
   "cell_type": "code",
   "execution_count": 4,
   "id": "36b803fa",
   "metadata": {},
   "outputs": [],
   "source": [
    "import pandas as pd\n",
    "from catboost import CatBoostRegressor, Pool\n",
    "import os"
   ]
  },
  {
   "cell_type": "code",
   "execution_count": 5,
   "id": "1a446c7a",
   "metadata": {},
   "outputs": [],
   "source": [
    "best_params = {\n",
    "    \"iterations\": 1000,\n",
    "    \"learning_rate\": 0.1,\n",
    "    \"depth\": 8,\n",
    "    \"l2_leaf_reg\": 1,\n",
    "}"
   ]
  },
  {
   "cell_type": "code",
   "execution_count": 6,
   "id": "50d27d65",
   "metadata": {},
   "outputs": [],
   "source": [
    "# 1. Load train and validation splits, then concatenate for final training\n",
    "train_df = pd.read_csv(\"./train_test_splits/train.csv\")\n",
    "val_df = pd.read_csv(\"./train_test_splits/validate.csv\")\n",
    "full_train_df = pd.concat([train_df, val_df]).reset_index(drop=True)"
   ]
  },
  {
   "cell_type": "code",
   "execution_count": 7,
   "id": "3204a7cb",
   "metadata": {},
   "outputs": [],
   "source": [
    "# 2. Define target and feature columns\n",
    "target_cols = [\"temperature\", \"rainfall\", \"wind_speed\", \"precipitation\"]\n",
    "feature_cols = [c for c in full_train_df.columns if c not in target_cols + [\"date\"]]\n",
    "\n",
    "cat_features = [\"location_id\", \"day_of_week\"]"
   ]
  },
  {
   "cell_type": "code",
   "execution_count": 8,
   "id": "506beb98",
   "metadata": {},
   "outputs": [],
   "source": [
    "# Create CatBoost Pool with categorical features specified\n",
    "train_pool = Pool(\n",
    "    data=full_train_df[feature_cols],\n",
    "    label=full_train_df[target_cols],\n",
    "    cat_features=cat_features\n",
    ")"
   ]
  },
  {
   "cell_type": "code",
   "execution_count": 9,
   "id": "e99e4828",
   "metadata": {},
   "outputs": [
    {
     "name": "stdout",
     "output_type": "stream",
     "text": [
      "0:\tlearn: 15.3993682\ttotal: 443ms\tremaining: 7m 22s\n",
      "200:\tlearn: 4.9336070\ttotal: 1m 28s\tremaining: 5m 53s\n",
      "400:\tlearn: 4.1939263\ttotal: 2m 35s\tremaining: 3m 51s\n",
      "600:\tlearn: 3.7288821\ttotal: 3m 42s\tremaining: 2m 27s\n",
      "800:\tlearn: 3.4008093\ttotal: 4m 48s\tremaining: 1m 11s\n",
      "999:\tlearn: 3.1423005\ttotal: 5m 57s\tremaining: 0us\n"
     ]
    },
    {
     "data": {
      "text/plain": [
       "<catboost.core.CatBoostRegressor at 0x239c87e6ba0>"
      ]
     },
     "execution_count": 9,
     "metadata": {},
     "output_type": "execute_result"
    }
   ],
   "source": [
    "# 3. Initialize and train CatBoost model with best hyperparameters\n",
    "model = CatBoostRegressor(\n",
    "    loss_function=\"MultiRMSE\",\n",
    "    verbose=200,\n",
    "    random_seed=42,\n",
    "    use_best_model=False,  # Disable early stopping for final training on full data\n",
    "    **best_params\n",
    ")\n",
    "\n",
    "model.fit(train_pool)"
   ]
  },
  {
   "cell_type": "code",
   "execution_count": 10,
   "id": "5ef90715",
   "metadata": {},
   "outputs": [
    {
     "name": "stdout",
     "output_type": "stream",
     "text": [
      "Final model trained on train + validation data.\n",
      "Saved to: ../../models/catboost_final_model.cbm\n"
     ]
    }
   ],
   "source": [
    "# 4. Save the final model\n",
    "model_path = \"../../models/catboost_final_model.cbm\"\n",
    "model.save_model(model_path)\n",
    "\n",
    "print(\"Final model trained on train + validation data.\")\n",
    "print(f\"Saved to: {model_path}\")"
   ]
  }
 ],
 "metadata": {
  "kernelspec": {
   "display_name": "Python 3",
   "language": "python",
   "name": "python3"
  },
  "language_info": {
   "codemirror_mode": {
    "name": "ipython",
    "version": 3
   },
   "file_extension": ".py",
   "mimetype": "text/x-python",
   "name": "python",
   "nbconvert_exporter": "python",
   "pygments_lexer": "ipython3",
   "version": "3.13.2"
  }
 },
 "nbformat": 4,
 "nbformat_minor": 5
}
