{
 "cells": [
  {
   "cell_type": "code",
   "execution_count": 1,
   "id": "0c4a2580",
   "metadata": {},
   "outputs": [],
   "source": [
    "import pandas as pd\n",
    "from catboost import Pool, CatBoostRegressor\n",
    "from sklearn.metrics import r2_score, mean_absolute_error, mean_squared_error\n",
    "import numpy as np"
   ]
  },
  {
   "cell_type": "code",
   "execution_count": 2,
   "id": "79b39996",
   "metadata": {},
   "outputs": [],
   "source": [
    "# 1. Load validation data\n",
    "val_df = pd.read_csv(\"./train_test_splits/validate.csv\")"
   ]
  },
  {
   "cell_type": "code",
   "execution_count": 4,
   "id": "870dea9a",
   "metadata": {},
   "outputs": [],
   "source": [
    "# 2. Define target and features (same as train)\n",
    "target_cols = ['temperature', 'rainfall', 'wind_speed', 'precipitation']\n",
    "feature_cols = [col for col in val_df.columns if col not in target_cols + ['date']]\n",
    "cat_features = ['location_id', 'day_of_week']"
   ]
  },
  {
   "cell_type": "code",
   "execution_count": 5,
   "id": "deb15364",
   "metadata": {},
   "outputs": [
    {
     "data": {
      "text/plain": [
       "<catboost.core.CatBoostRegressor at 0x2985045c1a0>"
      ]
     },
     "execution_count": 5,
     "metadata": {},
     "output_type": "execute_result"
    }
   ],
   "source": [
    "# 3. Load saved model\n",
    "model = CatBoostRegressor()\n",
    "model.load_model(\"catboost_initial_model.cbm\")"
   ]
  },
  {
   "cell_type": "code",
   "execution_count": 6,
   "id": "58ffecb3",
   "metadata": {},
   "outputs": [
    {
     "name": "stdout",
     "output_type": "stream",
     "text": [
      "Starting validation predictions and metrics calculation...\n"
     ]
    }
   ],
   "source": [
    "# 4. Prepare validation Pool\n",
    "val_pool = Pool(val_df[feature_cols], label=val_df[target_cols], cat_features=cat_features)\n",
    "\n",
    "print(\"Starting validation predictions and metrics calculation...\")"
   ]
  },
  {
   "cell_type": "code",
   "execution_count": 7,
   "id": "e952fff4",
   "metadata": {},
   "outputs": [],
   "source": [
    "# 5. Predict on validation set using Pool\n",
    "val_preds = model.predict(val_pool)  # shape: (num_samples, num_targets)"
   ]
  },
  {
   "cell_type": "code",
   "execution_count": 8,
   "id": "91bb3dd4",
   "metadata": {},
   "outputs": [
    {
     "name": "stdout",
     "output_type": "stream",
     "text": [
      "Validation metrics for temperature:\n",
      "  R2 Score: 0.9891\n",
      "  MAE: 0.2525\n",
      "  RMSE: 0.3244\n",
      "\n",
      "Validation metrics for rainfall:\n",
      "  R2 Score: 0.7590\n",
      "  MAE: 1.6662\n",
      "  RMSE: 5.1310\n",
      "\n",
      "Validation metrics for wind_speed:\n",
      "  R2 Score: 0.9337\n",
      "  MAE: 1.2784\n",
      "  RMSE: 1.6858\n",
      "\n",
      "Validation metrics for precipitation:\n",
      "  R2 Score: 0.7590\n",
      "  MAE: 1.6662\n",
      "  RMSE: 5.1310\n",
      "\n",
      "Validation complete.\n"
     ]
    }
   ],
   "source": [
    "# 6. Calculate and print metrics for each target\n",
    "val_true = val_df[target_cols].values\n",
    "\n",
    "for i, target in enumerate(target_cols):\n",
    "    r2 = r2_score(val_true[:, i], val_preds[:, i])\n",
    "    mae = mean_absolute_error(val_true[:, i], val_preds[:, i])\n",
    "    rmse = np.sqrt(mean_squared_error(val_true[:, i], val_preds[:, i]))\n",
    "    print(f\"Validation metrics for {target}:\")\n",
    "    print(f\"  R2 Score: {r2:.4f}\")\n",
    "    print(f\"  MAE: {mae:.4f}\")\n",
    "    print(f\"  RMSE: {rmse:.4f}\\n\")\n",
    "\n",
    "print(\"Validation complete.\")"
   ]
  }
 ],
 "metadata": {
  "kernelspec": {
   "display_name": "Python 3",
   "language": "python",
   "name": "python3"
  },
  "language_info": {
   "codemirror_mode": {
    "name": "ipython",
    "version": 3
   },
   "file_extension": ".py",
   "mimetype": "text/x-python",
   "name": "python",
   "nbconvert_exporter": "python",
   "pygments_lexer": "ipython3",
   "version": "3.13.2"
  }
 },
 "nbformat": 4,
 "nbformat_minor": 5
}
