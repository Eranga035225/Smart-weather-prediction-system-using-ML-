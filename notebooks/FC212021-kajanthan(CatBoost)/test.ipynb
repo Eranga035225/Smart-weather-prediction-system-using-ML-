{
 "cells": [
  {
   "cell_type": "code",
   "execution_count": 1,
   "id": "1018ac2d",
   "metadata": {},
   "outputs": [],
   "source": [
    "import pandas as pd\n",
    "from catboost import CatBoostRegressor\n",
    "from sklearn.metrics import r2_score, mean_absolute_error, mean_squared_error\n",
    "import numpy as np"
   ]
  },
  {
   "cell_type": "code",
   "execution_count": 2,
   "id": "54c8e905",
   "metadata": {},
   "outputs": [],
   "source": [
    "# 1. Load the test data\n",
    "test_df = pd.read_csv(\"./train_test_splits/test.csv\")"
   ]
  },
  {
   "cell_type": "code",
   "execution_count": 3,
   "id": "66bd13ab",
   "metadata": {},
   "outputs": [],
   "source": [
    "# Define target and feature columns\n",
    "target_cols = ['temperature', 'rainfall', 'wind_speed', 'precipitation']\n",
    "feature_cols = [c for c in test_df.columns if c not in target_cols + ['date']]\n",
    "\n",
    "cat_features = ['location_id', 'day_of_week']"
   ]
  },
  {
   "cell_type": "code",
   "execution_count": 5,
   "id": "ddb793d6",
   "metadata": {},
   "outputs": [
    {
     "data": {
      "text/plain": [
       "<catboost.core.CatBoostRegressor at 0x1f15dd2b610>"
      ]
     },
     "execution_count": 5,
     "metadata": {},
     "output_type": "execute_result"
    }
   ],
   "source": [
    "# 2. Load the trained final model\n",
    "model = CatBoostRegressor()\n",
    "model.load_model(\"../../models/catboost_final_model.cbm\")"
   ]
  },
  {
   "cell_type": "code",
   "execution_count": 6,
   "id": "67c20831",
   "metadata": {},
   "outputs": [],
   "source": [
    "# 3. Predict on test set\n",
    "test_preds = model.predict(test_df[feature_cols])\n",
    "test_true = test_df[target_cols].values"
   ]
  },
  {
   "cell_type": "code",
   "execution_count": 7,
   "id": "cc73f062",
   "metadata": {},
   "outputs": [
    {
     "name": "stdout",
     "output_type": "stream",
     "text": [
      "Final Model Evaluation on Test Set:\n",
      "\n",
      "🔹 Temperature:\n",
      "   R² Score : 0.9897\n",
      "   MAE      : 0.2426\n",
      "   RMSE     : 0.3181\n",
      "\n",
      "🔹 Rainfall:\n",
      "   R² Score : 0.8019\n",
      "   MAE      : 1.7223\n",
      "   RMSE     : 4.1352\n",
      "\n",
      "🔹 Wind_speed:\n",
      "   R² Score : 0.9499\n",
      "   MAE      : 1.0922\n",
      "   RMSE     : 1.4274\n",
      "\n",
      "🔹 Precipitation:\n",
      "   R² Score : 0.8019\n",
      "   MAE      : 1.7223\n",
      "   RMSE     : 4.1352\n",
      "\n"
     ]
    }
   ],
   "source": [
    "# 4. Evaluate predictions and print metrics per target\n",
    "print(\"Final Model Evaluation on Test Set:\\n\")\n",
    "\n",
    "for i, col in enumerate(target_cols):\n",
    "    r2 = r2_score(test_true[:, i], test_preds[:, i])\n",
    "    mae = mean_absolute_error(test_true[:, i], test_preds[:, i])\n",
    "    rmse = np.sqrt(mean_squared_error(test_true[:, i], test_preds[:, i]))\n",
    "\n",
    "    print(f\"🔹 {col.capitalize()}:\")\n",
    "    print(f\"   R² Score : {r2:.4f}\")\n",
    "    print(f\"   MAE      : {mae:.4f}\")\n",
    "    print(f\"   RMSE     : {rmse:.4f}\\n\")"
   ]
  }
 ],
 "metadata": {
  "kernelspec": {
   "display_name": "Python 3",
   "language": "python",
   "name": "python3"
  },
  "language_info": {
   "codemirror_mode": {
    "name": "ipython",
    "version": 3
   },
   "file_extension": ".py",
   "mimetype": "text/x-python",
   "name": "python",
   "nbconvert_exporter": "python",
   "pygments_lexer": "ipython3",
   "version": "3.13.2"
  }
 },
 "nbformat": 4,
 "nbformat_minor": 5
}
