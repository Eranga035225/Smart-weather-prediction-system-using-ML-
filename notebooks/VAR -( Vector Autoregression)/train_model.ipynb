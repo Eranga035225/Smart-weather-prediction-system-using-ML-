{
 "cells": [
  {
   "cell_type": "code",
   "execution_count": 1,
   "id": "a9c77932",
   "metadata": {},
   "outputs": [],
   "source": [
    "import os\n",
    "import pandas as pd\n",
    "from statsmodels.tsa.api import VAR\n",
    "from sklearn.metrics import mean_absolute_error, mean_squared_error, r2_score\n",
    "import numpy as np\n",
    "import pickle"
   ]
  },
  {
   "cell_type": "code",
   "execution_count": 2,
   "id": "5a6fa4ef",
   "metadata": {},
   "outputs": [],
   "source": [
    "# Folder paths\n",
    "input_folder = 'city_wise_data_splits'  # City CSVs named like Colombo_train.csv, Colombo_val.csv, Colombo_test.csv\n",
    "model_folder = 'trained_var_models'\n",
    "os.makedirs(model_folder, exist_ok=True)"
   ]
  },
  {
   "cell_type": "code",
   "execution_count": 3,
   "id": "8c5c6a95",
   "metadata": {},
   "outputs": [],
   "source": [
    "# Cities list (modify if needed)\n",
    "cities = [\n",
    "    \"Colombo\", \"Gampaha\", \"Kalutara\", \"Kandy\", \"Matale\", \"Nuwara_Eliya\", \"Galle\", \"Matara\",\n",
    "    \"Hambantota\", \"Jaffna\", \"Kilinochchi1\", \"Mannar\", \"Vavuniya\", \"Mullaitivu\", \"Batticaloa\",\n",
    "    \"Ampara\", \"Trincomalee\", \"Kurunegala\", \"Puttalam\", \"Anuradhapura\", \"Polonnaruwa\", \"Badulla\",\n",
    "    \"Moneragala\", \"Ratnapura\", \"Kegalle\", \"Welimada\", \"Bandarawela\"\n",
    "]"
   ]
  },
  {
   "cell_type": "code",
   "execution_count": 4,
   "id": "62b66206",
   "metadata": {},
   "outputs": [],
   "source": [
    "def evaluate_model(true_df, pred_df):\n",
    "    print(\"Evaluation metrics:\")\n",
    "    for col in true_df.columns:\n",
    "        y_true = true_df[col].values\n",
    "        y_pred = pred_df[col].values\n",
    "        print(f\"  {col}:\")\n",
    "        print(f\"    MAE  = {mean_absolute_error(y_true, y_pred):.4f}\")\n",
    "        print(f\"    RMSE = {np.sqrt(mean_squared_error(y_true, y_pred)):.4f}\")\n",
    "        print(f\"    R2   = {r2_score(y_true, y_pred):.4f}\")"
   ]
  },
  {
   "cell_type": "code",
   "execution_count": 5,
   "id": "4d1f65fd",
   "metadata": {},
   "outputs": [
    {
     "name": "stderr",
     "output_type": "stream",
     "text": [
      "c:\\Users\\HP\\AppData\\Local\\Programs\\Python\\Python313\\Lib\\site-packages\\statsmodels\\tsa\\base\\tsa_model.py:473: ValueWarning: No frequency information was provided, so inferred frequency D will be used.\n",
      "  self._init_dates(dates, freq)\n"
     ]
    },
    {
     "name": "stdout",
     "output_type": "stream",
     "text": [
      "\n",
      "Training VAR model for city: Colombo\n",
      "Selected lag order (AIC): 12\n",
      "Validation results for city: Colombo\n",
      "Evaluation metrics:\n",
      "  temperature:\n",
      "    MAE  = 0.7010\n",
      "    RMSE = 0.8694\n",
      "    R2   = 0.0253\n",
      "  rainfall:\n",
      "    MAE  = 6.6587\n",
      "    RMSE = 10.4273\n",
      "    R2   = 0.0049\n",
      "  wind_speed:\n",
      "    MAE  = 3.6303\n",
      "    RMSE = 4.6319\n",
      "    R2   = -0.1807\n",
      "Saved VAR model for Colombo at trained_var_models\\Colombo_var_model.pkl\n",
      "\n",
      "Training VAR model for city: Gampaha\n",
      "Selected lag order (AIC): 15\n"
     ]
    },
    {
     "name": "stderr",
     "output_type": "stream",
     "text": [
      "c:\\Users\\HP\\AppData\\Local\\Programs\\Python\\Python313\\Lib\\site-packages\\statsmodels\\tsa\\base\\tsa_model.py:473: ValueWarning: No frequency information was provided, so inferred frequency D will be used.\n",
      "  self._init_dates(dates, freq)\n",
      "c:\\Users\\HP\\AppData\\Local\\Programs\\Python\\Python313\\Lib\\site-packages\\statsmodels\\tsa\\base\\tsa_model.py:473: ValueWarning: No frequency information was provided, so inferred frequency D will be used.\n",
      "  self._init_dates(dates, freq)\n"
     ]
    },
    {
     "name": "stdout",
     "output_type": "stream",
     "text": [
      "Validation results for city: Gampaha\n",
      "Evaluation metrics:\n",
      "  temperature:\n",
      "    MAE  = 0.6947\n",
      "    RMSE = 0.8695\n",
      "    R2   = 0.1235\n",
      "  rainfall:\n",
      "    MAE  = 6.7506\n",
      "    RMSE = 10.1815\n",
      "    R2   = 0.0047\n",
      "  wind_speed:\n",
      "    MAE  = 2.9539\n",
      "    RMSE = 3.6597\n",
      "    R2   = -0.0189\n",
      "Saved VAR model for Gampaha at trained_var_models\\Gampaha_var_model.pkl\n",
      "\n",
      "Training VAR model for city: Kalutara\n",
      "Selected lag order (AIC): 15\n",
      "Validation results for city: Kalutara\n",
      "Evaluation metrics:\n",
      "  temperature:\n",
      "    MAE  = 0.6976\n",
      "    RMSE = 0.8481\n",
      "    R2   = -0.0197\n",
      "  rainfall:\n",
      "    MAE  = 6.2365\n",
      "    RMSE = 8.6355\n",
      "    R2   = 0.0017\n",
      "  wind_speed:\n",
      "    MAE  = 3.3297\n",
      "    RMSE = 4.3035\n",
      "    R2   = -0.0398\n",
      "Saved VAR model for Kalutara at trained_var_models\\Kalutara_var_model.pkl\n"
     ]
    },
    {
     "name": "stderr",
     "output_type": "stream",
     "text": [
      "c:\\Users\\HP\\AppData\\Local\\Programs\\Python\\Python313\\Lib\\site-packages\\statsmodels\\tsa\\base\\tsa_model.py:473: ValueWarning: No frequency information was provided, so inferred frequency D will be used.\n",
      "  self._init_dates(dates, freq)\n"
     ]
    },
    {
     "name": "stdout",
     "output_type": "stream",
     "text": [
      "\n",
      "Training VAR model for city: Kandy\n",
      "Selected lag order (AIC): 14\n",
      "Validation results for city: Kandy\n",
      "Evaluation metrics:\n",
      "  temperature:\n",
      "    MAE  = 0.7699\n",
      "    RMSE = 0.9921\n",
      "    R2   = 0.0640\n",
      "  rainfall:\n",
      "    MAE  = 5.3347\n",
      "    RMSE = 7.7746\n",
      "    R2   = -0.0133\n",
      "  wind_speed:\n",
      "    MAE  = 4.3912\n",
      "    RMSE = 5.3513\n",
      "    R2   = -0.2846\n",
      "Saved VAR model for Kandy at trained_var_models\\Kandy_var_model.pkl\n"
     ]
    },
    {
     "name": "stderr",
     "output_type": "stream",
     "text": [
      "c:\\Users\\HP\\AppData\\Local\\Programs\\Python\\Python313\\Lib\\site-packages\\statsmodels\\tsa\\base\\tsa_model.py:473: ValueWarning: No frequency information was provided, so inferred frequency D will be used.\n",
      "  self._init_dates(dates, freq)\n"
     ]
    },
    {
     "name": "stdout",
     "output_type": "stream",
     "text": [
      "\n",
      "Training VAR model for city: Matale\n",
      "Selected lag order (AIC): 11\n",
      "Validation results for city: Matale\n",
      "Evaluation metrics:\n",
      "  temperature:\n",
      "    MAE  = 0.9107\n",
      "    RMSE = 1.1217\n",
      "    R2   = -0.1201\n",
      "  rainfall:\n",
      "    MAE  = 6.2952\n",
      "    RMSE = 12.1299\n",
      "    R2   = -0.0029\n",
      "  wind_speed:\n",
      "    MAE  = 3.5569\n",
      "    RMSE = 4.3191\n",
      "    R2   = -0.0002\n",
      "Saved VAR model for Matale at trained_var_models\\Matale_var_model.pkl\n"
     ]
    },
    {
     "name": "stderr",
     "output_type": "stream",
     "text": [
      "c:\\Users\\HP\\AppData\\Local\\Programs\\Python\\Python313\\Lib\\site-packages\\statsmodels\\tsa\\base\\tsa_model.py:473: ValueWarning: No frequency information was provided, so inferred frequency D will be used.\n",
      "  self._init_dates(dates, freq)\n"
     ]
    },
    {
     "name": "stdout",
     "output_type": "stream",
     "text": [
      "\n",
      "Training VAR model for city: Nuwara_Eliya\n",
      "Selected lag order (AIC): 15\n",
      "Validation results for city: Nuwara_Eliya\n",
      "Evaluation metrics:\n",
      "  temperature:\n",
      "    MAE  = 1.3752\n",
      "    RMSE = 1.5609\n",
      "    R2   = -2.2738\n",
      "  rainfall:\n",
      "    MAE  = 7.0286\n",
      "    RMSE = 10.8165\n",
      "    R2   = 0.0023\n",
      "  wind_speed:\n",
      "    MAE  = 5.2490\n",
      "    RMSE = 6.9381\n",
      "    R2   = -0.1430\n",
      "Saved VAR model for Nuwara_Eliya at trained_var_models\\Nuwara_Eliya_var_model.pkl\n"
     ]
    },
    {
     "name": "stderr",
     "output_type": "stream",
     "text": [
      "c:\\Users\\HP\\AppData\\Local\\Programs\\Python\\Python313\\Lib\\site-packages\\statsmodels\\tsa\\base\\tsa_model.py:473: ValueWarning: No frequency information was provided, so inferred frequency D will be used.\n",
      "  self._init_dates(dates, freq)\n"
     ]
    },
    {
     "name": "stdout",
     "output_type": "stream",
     "text": [
      "\n",
      "Training VAR model for city: Galle\n",
      "Selected lag order (AIC): 14\n",
      "Validation results for city: Galle\n",
      "Evaluation metrics:\n",
      "  temperature:\n",
      "    MAE  = 0.6739\n",
      "    RMSE = 0.8240\n",
      "    R2   = 0.0076\n",
      "  rainfall:\n",
      "    MAE  = 5.9029\n",
      "    RMSE = 11.1011\n",
      "    R2   = -0.0055\n",
      "  wind_speed:\n",
      "    MAE  = 4.8611\n",
      "    RMSE = 5.6870\n",
      "    R2   = 0.0043\n",
      "Saved VAR model for Galle at trained_var_models\\Galle_var_model.pkl\n"
     ]
    },
    {
     "name": "stderr",
     "output_type": "stream",
     "text": [
      "c:\\Users\\HP\\AppData\\Local\\Programs\\Python\\Python313\\Lib\\site-packages\\statsmodels\\tsa\\base\\tsa_model.py:473: ValueWarning: No frequency information was provided, so inferred frequency D will be used.\n",
      "  self._init_dates(dates, freq)\n"
     ]
    },
    {
     "name": "stdout",
     "output_type": "stream",
     "text": [
      "\n",
      "Training VAR model for city: Matara\n",
      "Selected lag order (AIC): 15\n",
      "Validation results for city: Matara\n",
      "Evaluation metrics:\n",
      "  temperature:\n",
      "    MAE  = 0.6409\n",
      "    RMSE = 0.8015\n",
      "    R2   = -0.2515\n",
      "  rainfall:\n",
      "    MAE  = 4.5422\n",
      "    RMSE = 6.5453\n",
      "    R2   = -0.0152\n",
      "  wind_speed:\n",
      "    MAE  = 6.7456\n",
      "    RMSE = 8.1951\n",
      "    R2   = -0.3008\n",
      "Saved VAR model for Matara at trained_var_models\\Matara_var_model.pkl\n"
     ]
    },
    {
     "name": "stderr",
     "output_type": "stream",
     "text": [
      "c:\\Users\\HP\\AppData\\Local\\Programs\\Python\\Python313\\Lib\\site-packages\\statsmodels\\tsa\\base\\tsa_model.py:473: ValueWarning: No frequency information was provided, so inferred frequency D will be used.\n",
      "  self._init_dates(dates, freq)\n"
     ]
    },
    {
     "name": "stdout",
     "output_type": "stream",
     "text": [
      "\n",
      "Training VAR model for city: Hambantota\n",
      "Selected lag order (AIC): 14\n",
      "Validation results for city: Hambantota\n",
      "Evaluation metrics:\n",
      "  temperature:\n",
      "    MAE  = 0.8530\n",
      "    RMSE = 1.0453\n",
      "    R2   = -0.0695\n",
      "  rainfall:\n",
      "    MAE  = 3.0217\n",
      "    RMSE = 5.0970\n",
      "    R2   = -0.0088\n",
      "  wind_speed:\n",
      "    MAE  = 5.4917\n",
      "    RMSE = 6.3874\n",
      "    R2   = -0.0644\n",
      "Saved VAR model for Hambantota at trained_var_models\\Hambantota_var_model.pkl\n"
     ]
    },
    {
     "name": "stderr",
     "output_type": "stream",
     "text": [
      "c:\\Users\\HP\\AppData\\Local\\Programs\\Python\\Python313\\Lib\\site-packages\\statsmodels\\tsa\\base\\tsa_model.py:473: ValueWarning: No frequency information was provided, so inferred frequency D will be used.\n",
      "  self._init_dates(dates, freq)\n"
     ]
    },
    {
     "name": "stdout",
     "output_type": "stream",
     "text": [
      "\n",
      "Training VAR model for city: Jaffna\n",
      "Selected lag order (AIC): 11\n",
      "Validation results for city: Jaffna\n",
      "Evaluation metrics:\n",
      "  temperature:\n",
      "    MAE  = 1.3073\n",
      "    RMSE = 1.5454\n",
      "    R2   = -0.1179\n",
      "  rainfall:\n",
      "    MAE  = 4.3886\n",
      "    RMSE = 9.1613\n",
      "    R2   = -0.0072\n",
      "  wind_speed:\n",
      "    MAE  = 6.4473\n",
      "    RMSE = 7.6863\n",
      "    R2   = -0.2143\n",
      "Saved VAR model for Jaffna at trained_var_models\\Jaffna_var_model.pkl\n"
     ]
    },
    {
     "name": "stderr",
     "output_type": "stream",
     "text": [
      "c:\\Users\\HP\\AppData\\Local\\Programs\\Python\\Python313\\Lib\\site-packages\\statsmodels\\tsa\\base\\tsa_model.py:473: ValueWarning: No frequency information was provided, so inferred frequency D will be used.\n",
      "  self._init_dates(dates, freq)\n"
     ]
    },
    {
     "name": "stdout",
     "output_type": "stream",
     "text": [
      "\n",
      "Training VAR model for city: Kilinochchi1\n",
      "Selected lag order (AIC): 12\n",
      "Validation results for city: Kilinochchi1\n",
      "Evaluation metrics:\n",
      "  temperature:\n",
      "    MAE  = 1.6597\n",
      "    RMSE = 1.8773\n",
      "    R2   = -0.1264\n",
      "  rainfall:\n",
      "    MAE  = 4.7253\n",
      "    RMSE = 14.3677\n",
      "    R2   = -0.0059\n",
      "  wind_speed:\n",
      "    MAE  = 4.9426\n",
      "    RMSE = 6.1028\n",
      "    R2   = -0.1281\n",
      "Saved VAR model for Kilinochchi1 at trained_var_models\\Kilinochchi1_var_model.pkl\n"
     ]
    },
    {
     "name": "stderr",
     "output_type": "stream",
     "text": [
      "c:\\Users\\HP\\AppData\\Local\\Programs\\Python\\Python313\\Lib\\site-packages\\statsmodels\\tsa\\base\\tsa_model.py:473: ValueWarning: No frequency information was provided, so inferred frequency D will be used.\n",
      "  self._init_dates(dates, freq)\n"
     ]
    },
    {
     "name": "stdout",
     "output_type": "stream",
     "text": [
      "\n",
      "Training VAR model for city: Mannar\n",
      "Selected lag order (AIC): 10\n",
      "Validation results for city: Mannar\n",
      "Evaluation metrics:\n",
      "  temperature:\n",
      "    MAE  = 1.3559\n",
      "    RMSE = 1.5483\n",
      "    R2   = -0.0988\n",
      "  rainfall:\n",
      "    MAE  = 3.7389\n",
      "    RMSE = 10.3312\n",
      "    R2   = -0.0009\n",
      "  wind_speed:\n",
      "    MAE  = 6.2393\n",
      "    RMSE = 7.6418\n",
      "    R2   = -0.0018\n",
      "Saved VAR model for Mannar at trained_var_models\\Mannar_var_model.pkl\n"
     ]
    },
    {
     "name": "stderr",
     "output_type": "stream",
     "text": [
      "c:\\Users\\HP\\AppData\\Local\\Programs\\Python\\Python313\\Lib\\site-packages\\statsmodels\\tsa\\base\\tsa_model.py:473: ValueWarning: No frequency information was provided, so inferred frequency D will be used.\n",
      "  self._init_dates(dates, freq)\n"
     ]
    },
    {
     "name": "stdout",
     "output_type": "stream",
     "text": [
      "\n",
      "Training VAR model for city: Vavuniya\n",
      "Selected lag order (AIC): 12\n",
      "Validation results for city: Vavuniya\n",
      "Evaluation metrics:\n",
      "  temperature:\n",
      "    MAE  = 1.5202\n",
      "    RMSE = 1.7423\n",
      "    R2   = -0.1171\n",
      "  rainfall:\n",
      "    MAE  = 4.6797\n",
      "    RMSE = 9.8307\n",
      "    R2   = -0.0044\n",
      "  wind_speed:\n",
      "    MAE  = 4.3996\n",
      "    RMSE = 5.5695\n",
      "    R2   = -0.0222\n",
      "Saved VAR model for Vavuniya at trained_var_models\\Vavuniya_var_model.pkl\n"
     ]
    },
    {
     "name": "stderr",
     "output_type": "stream",
     "text": [
      "c:\\Users\\HP\\AppData\\Local\\Programs\\Python\\Python313\\Lib\\site-packages\\statsmodels\\tsa\\base\\tsa_model.py:473: ValueWarning: No frequency information was provided, so inferred frequency D will be used.\n",
      "  self._init_dates(dates, freq)\n"
     ]
    },
    {
     "name": "stdout",
     "output_type": "stream",
     "text": [
      "\n",
      "Training VAR model for city: Mullaitivu\n",
      "Selected lag order (AIC): 12\n",
      "Validation results for city: Mullaitivu\n",
      "Evaluation metrics:\n",
      "  temperature:\n",
      "    MAE  = 1.4247\n",
      "    RMSE = 1.6586\n",
      "    R2   = -0.0866\n",
      "  rainfall:\n",
      "    MAE  = 4.6899\n",
      "    RMSE = 11.5486\n",
      "    R2   = -0.0053\n",
      "  wind_speed:\n",
      "    MAE  = 4.0468\n",
      "    RMSE = 5.0236\n",
      "    R2   = -0.0413\n",
      "Saved VAR model for Mullaitivu at trained_var_models\\Mullaitivu_var_model.pkl\n"
     ]
    },
    {
     "name": "stderr",
     "output_type": "stream",
     "text": [
      "c:\\Users\\HP\\AppData\\Local\\Programs\\Python\\Python313\\Lib\\site-packages\\statsmodels\\tsa\\base\\tsa_model.py:473: ValueWarning: No frequency information was provided, so inferred frequency D will be used.\n",
      "  self._init_dates(dates, freq)\n"
     ]
    },
    {
     "name": "stdout",
     "output_type": "stream",
     "text": [
      "\n",
      "Training VAR model for city: Batticaloa\n",
      "Selected lag order (AIC): 10\n",
      "Validation results for city: Batticaloa\n",
      "Evaluation metrics:\n",
      "  temperature:\n",
      "    MAE  = 1.4957\n",
      "    RMSE = 1.7309\n",
      "    R2   = -0.1048\n",
      "  rainfall:\n",
      "    MAE  = 4.7875\n",
      "    RMSE = 7.3626\n",
      "    R2   = -0.0275\n",
      "  wind_speed:\n",
      "    MAE  = 3.3990\n",
      "    RMSE = 4.4663\n",
      "    R2   = -0.0082\n",
      "Saved VAR model for Batticaloa at trained_var_models\\Batticaloa_var_model.pkl\n"
     ]
    },
    {
     "name": "stderr",
     "output_type": "stream",
     "text": [
      "c:\\Users\\HP\\AppData\\Local\\Programs\\Python\\Python313\\Lib\\site-packages\\statsmodels\\tsa\\base\\tsa_model.py:473: ValueWarning: No frequency information was provided, so inferred frequency D will be used.\n",
      "  self._init_dates(dates, freq)\n"
     ]
    },
    {
     "name": "stdout",
     "output_type": "stream",
     "text": [
      "\n",
      "Training VAR model for city: Ampara\n",
      "Selected lag order (AIC): 7\n",
      "Validation results for city: Ampara\n",
      "Evaluation metrics:\n",
      "  temperature:\n",
      "    MAE  = 1.6533\n",
      "    RMSE = 1.8780\n",
      "    R2   = -0.1154\n",
      "  rainfall:\n",
      "    MAE  = 5.3958\n",
      "    RMSE = 10.2769\n",
      "    R2   = -0.0122\n",
      "  wind_speed:\n",
      "    MAE  = 2.6788\n",
      "    RMSE = 3.5713\n",
      "    R2   = 0.0042\n",
      "Saved VAR model for Ampara at trained_var_models\\Ampara_var_model.pkl\n"
     ]
    },
    {
     "name": "stderr",
     "output_type": "stream",
     "text": [
      "c:\\Users\\HP\\AppData\\Local\\Programs\\Python\\Python313\\Lib\\site-packages\\statsmodels\\tsa\\base\\tsa_model.py:473: ValueWarning: No frequency information was provided, so inferred frequency D will be used.\n",
      "  self._init_dates(dates, freq)\n"
     ]
    },
    {
     "name": "stdout",
     "output_type": "stream",
     "text": [
      "\n",
      "Training VAR model for city: Trincomalee\n",
      "Selected lag order (AIC): 12\n",
      "Validation results for city: Trincomalee\n",
      "Evaluation metrics:\n",
      "  temperature:\n",
      "    MAE  = 1.3792\n",
      "    RMSE = 1.6099\n",
      "    R2   = -0.0693\n",
      "  rainfall:\n",
      "    MAE  = 5.1166\n",
      "    RMSE = 11.5743\n",
      "    R2   = -0.0073\n",
      "  wind_speed:\n",
      "    MAE  = 4.7820\n",
      "    RMSE = 5.6557\n",
      "    R2   = -0.1460\n",
      "Saved VAR model for Trincomalee at trained_var_models\\Trincomalee_var_model.pkl\n"
     ]
    },
    {
     "name": "stderr",
     "output_type": "stream",
     "text": [
      "c:\\Users\\HP\\AppData\\Local\\Programs\\Python\\Python313\\Lib\\site-packages\\statsmodels\\tsa\\base\\tsa_model.py:473: ValueWarning: No frequency information was provided, so inferred frequency D will be used.\n",
      "  self._init_dates(dates, freq)\n"
     ]
    },
    {
     "name": "stdout",
     "output_type": "stream",
     "text": [
      "\n",
      "Training VAR model for city: Kurunegala\n",
      "Selected lag order (AIC): 11\n",
      "Validation results for city: Kurunegala\n",
      "Evaluation metrics:\n",
      "  temperature:\n",
      "    MAE  = 0.8594\n",
      "    RMSE = 1.0983\n",
      "    R2   = 0.0792\n",
      "  rainfall:\n",
      "    MAE  = 5.7792\n",
      "    RMSE = 9.8259\n",
      "    R2   = 0.0017\n",
      "  wind_speed:\n",
      "    MAE  = 3.3863\n",
      "    RMSE = 4.1482\n",
      "    R2   = -0.0220\n",
      "Saved VAR model for Kurunegala at trained_var_models\\Kurunegala_var_model.pkl\n"
     ]
    },
    {
     "name": "stderr",
     "output_type": "stream",
     "text": [
      "c:\\Users\\HP\\AppData\\Local\\Programs\\Python\\Python313\\Lib\\site-packages\\statsmodels\\tsa\\base\\tsa_model.py:473: ValueWarning: No frequency information was provided, so inferred frequency D will be used.\n",
      "  self._init_dates(dates, freq)\n"
     ]
    },
    {
     "name": "stdout",
     "output_type": "stream",
     "text": [
      "\n",
      "Training VAR model for city: Puttalam\n",
      "Selected lag order (AIC): 13\n",
      "Validation results for city: Puttalam\n",
      "Evaluation metrics:\n",
      "  temperature:\n",
      "    MAE  = 0.8723\n",
      "    RMSE = 1.0801\n",
      "    R2   = -0.0288\n",
      "  rainfall:\n",
      "    MAE  = 4.8470\n",
      "    RMSE = 8.7332\n",
      "    R2   = 0.0029\n",
      "  wind_speed:\n",
      "    MAE  = 4.6915\n",
      "    RMSE = 5.8787\n",
      "    R2   = -0.1123\n",
      "Saved VAR model for Puttalam at trained_var_models\\Puttalam_var_model.pkl\n"
     ]
    },
    {
     "name": "stderr",
     "output_type": "stream",
     "text": [
      "c:\\Users\\HP\\AppData\\Local\\Programs\\Python\\Python313\\Lib\\site-packages\\statsmodels\\tsa\\base\\tsa_model.py:473: ValueWarning: No frequency information was provided, so inferred frequency D will be used.\n",
      "  self._init_dates(dates, freq)\n"
     ]
    },
    {
     "name": "stdout",
     "output_type": "stream",
     "text": [
      "\n",
      "Training VAR model for city: Anuradhapura\n",
      "Selected lag order (AIC): 15\n",
      "Validation results for city: Anuradhapura\n",
      "Evaluation metrics:\n",
      "  temperature:\n",
      "    MAE  = 1.2214\n",
      "    RMSE = 1.4406\n",
      "    R2   = -0.1246\n",
      "  rainfall:\n",
      "    MAE  = 4.6641\n",
      "    RMSE = 8.1966\n",
      "    R2   = -0.0023\n",
      "  wind_speed:\n",
      "    MAE  = 4.6697\n",
      "    RMSE = 5.6832\n",
      "    R2   = -0.0036\n",
      "Saved VAR model for Anuradhapura at trained_var_models\\Anuradhapura_var_model.pkl\n"
     ]
    },
    {
     "name": "stderr",
     "output_type": "stream",
     "text": [
      "c:\\Users\\HP\\AppData\\Local\\Programs\\Python\\Python313\\Lib\\site-packages\\statsmodels\\tsa\\base\\tsa_model.py:473: ValueWarning: No frequency information was provided, so inferred frequency D will be used.\n",
      "  self._init_dates(dates, freq)\n"
     ]
    },
    {
     "name": "stdout",
     "output_type": "stream",
     "text": [
      "\n",
      "Training VAR model for city: Polonnaruwa\n",
      "Selected lag order (AIC): 11\n",
      "Validation results for city: Polonnaruwa\n",
      "Evaluation metrics:\n",
      "  temperature:\n",
      "    MAE  = 1.7287\n",
      "    RMSE = 1.9675\n",
      "    R2   = -0.1258\n",
      "  rainfall:\n",
      "    MAE  = 4.8588\n",
      "    RMSE = 8.0903\n",
      "    R2   = -0.0110\n",
      "  wind_speed:\n",
      "    MAE  = 5.0709\n",
      "    RMSE = 6.1391\n",
      "    R2   = -0.0185\n",
      "Saved VAR model for Polonnaruwa at trained_var_models\\Polonnaruwa_var_model.pkl\n"
     ]
    },
    {
     "name": "stderr",
     "output_type": "stream",
     "text": [
      "c:\\Users\\HP\\AppData\\Local\\Programs\\Python\\Python313\\Lib\\site-packages\\statsmodels\\tsa\\base\\tsa_model.py:473: ValueWarning: No frequency information was provided, so inferred frequency D will be used.\n",
      "  self._init_dates(dates, freq)\n"
     ]
    },
    {
     "name": "stdout",
     "output_type": "stream",
     "text": [
      "\n",
      "Training VAR model for city: Badulla\n",
      "Selected lag order (AIC): 10\n",
      "Validation results for city: Badulla\n",
      "Evaluation metrics:\n",
      "  temperature:\n",
      "    MAE  = 1.2366\n",
      "    RMSE = 1.5092\n",
      "    R2   = -0.1550\n",
      "  rainfall:\n",
      "    MAE  = 6.1774\n",
      "    RMSE = 11.6113\n",
      "    R2   = -0.0089\n",
      "  wind_speed:\n",
      "    MAE  = 2.2964\n",
      "    RMSE = 2.7962\n",
      "    R2   = -0.2321\n",
      "Saved VAR model for Badulla at trained_var_models\\Badulla_var_model.pkl\n"
     ]
    },
    {
     "name": "stderr",
     "output_type": "stream",
     "text": [
      "c:\\Users\\HP\\AppData\\Local\\Programs\\Python\\Python313\\Lib\\site-packages\\statsmodels\\tsa\\base\\tsa_model.py:473: ValueWarning: No frequency information was provided, so inferred frequency D will be used.\n",
      "  self._init_dates(dates, freq)\n"
     ]
    },
    {
     "name": "stdout",
     "output_type": "stream",
     "text": [
      "\n",
      "Training VAR model for city: Moneragala\n",
      "Selected lag order (AIC): 10\n",
      "Validation results for city: Moneragala\n",
      "Evaluation metrics:\n",
      "  temperature:\n",
      "    MAE  = 1.4654\n",
      "    RMSE = 1.7567\n",
      "    R2   = -0.0923\n",
      "  rainfall:\n",
      "    MAE  = 5.4562\n",
      "    RMSE = 8.0981\n",
      "    R2   = -0.0023\n",
      "  wind_speed:\n",
      "    MAE  = 3.9344\n",
      "    RMSE = 5.0601\n",
      "    R2   = -0.1012\n",
      "Saved VAR model for Moneragala at trained_var_models\\Moneragala_var_model.pkl\n"
     ]
    },
    {
     "name": "stderr",
     "output_type": "stream",
     "text": [
      "c:\\Users\\HP\\AppData\\Local\\Programs\\Python\\Python313\\Lib\\site-packages\\statsmodels\\tsa\\base\\tsa_model.py:473: ValueWarning: No frequency information was provided, so inferred frequency D will be used.\n",
      "  self._init_dates(dates, freq)\n"
     ]
    },
    {
     "name": "stdout",
     "output_type": "stream",
     "text": [
      "\n",
      "Training VAR model for city: Ratnapura\n",
      "Selected lag order (AIC): 13\n",
      "Validation results for city: Ratnapura\n",
      "Evaluation metrics:\n",
      "  temperature:\n",
      "    MAE  = 0.7418\n",
      "    RMSE = 0.9173\n",
      "    R2   = -0.3470\n",
      "  rainfall:\n",
      "    MAE  = 9.7322\n",
      "    RMSE = 15.7686\n",
      "    R2   = -0.0379\n",
      "  wind_speed:\n",
      "    MAE  = 3.0067\n",
      "    RMSE = 3.5109\n",
      "    R2   = -0.0734\n",
      "Saved VAR model for Ratnapura at trained_var_models\\Ratnapura_var_model.pkl\n"
     ]
    },
    {
     "name": "stderr",
     "output_type": "stream",
     "text": [
      "c:\\Users\\HP\\AppData\\Local\\Programs\\Python\\Python313\\Lib\\site-packages\\statsmodels\\tsa\\base\\tsa_model.py:473: ValueWarning: No frequency information was provided, so inferred frequency D will be used.\n",
      "  self._init_dates(dates, freq)\n"
     ]
    },
    {
     "name": "stdout",
     "output_type": "stream",
     "text": [
      "\n",
      "Training VAR model for city: Kegalle\n",
      "Selected lag order (AIC): 11\n",
      "Validation results for city: Kegalle\n",
      "Evaluation metrics:\n",
      "  temperature:\n",
      "    MAE  = 0.8567\n",
      "    RMSE = 1.0897\n",
      "    R2   = 0.1270\n",
      "  rainfall:\n",
      "    MAE  = 6.7086\n",
      "    RMSE = 10.4154\n",
      "    R2   = -0.0033\n",
      "  wind_speed:\n",
      "    MAE  = 3.0564\n",
      "    RMSE = 3.7712\n",
      "    R2   = -0.0684\n",
      "Saved VAR model for Kegalle at trained_var_models\\Kegalle_var_model.pkl\n"
     ]
    },
    {
     "name": "stderr",
     "output_type": "stream",
     "text": [
      "c:\\Users\\HP\\AppData\\Local\\Programs\\Python\\Python313\\Lib\\site-packages\\statsmodels\\tsa\\base\\tsa_model.py:473: ValueWarning: No frequency information was provided, so inferred frequency D will be used.\n",
      "  self._init_dates(dates, freq)\n"
     ]
    },
    {
     "name": "stdout",
     "output_type": "stream",
     "text": [
      "\n",
      "Training VAR model for city: Welimada\n",
      "Selected lag order (AIC): 11\n",
      "Validation results for city: Welimada\n",
      "Evaluation metrics:\n",
      "  temperature:\n",
      "    MAE  = 1.2548\n",
      "    RMSE = 1.5623\n",
      "    R2   = -0.4132\n",
      "  rainfall:\n",
      "    MAE  = 6.0776\n",
      "    RMSE = 9.3048\n",
      "    R2   = -0.0373\n",
      "  wind_speed:\n",
      "    MAE  = 2.7674\n",
      "    RMSE = 3.6372\n",
      "    R2   = -0.0125\n",
      "Saved VAR model for Welimada at trained_var_models\\Welimada_var_model.pkl\n",
      "\n",
      "Training VAR model for city: Bandarawela\n",
      "Selected lag order (AIC): 10\n",
      "Validation results for city: Bandarawela\n",
      "Evaluation metrics:\n",
      "  temperature:\n",
      "    MAE  = 1.1917\n",
      "    RMSE = 1.4661\n",
      "    R2   = -0.5732\n",
      "  rainfall:\n",
      "    MAE  = 6.0720\n",
      "    RMSE = 9.6158\n",
      "    R2   = -0.0215\n",
      "  wind_speed:\n",
      "    MAE  = 2.6813\n",
      "    RMSE = 3.3794\n",
      "    R2   = 0.0053\n",
      "Saved VAR model for Bandarawela at trained_var_models\\Bandarawela_var_model.pkl\n"
     ]
    },
    {
     "name": "stderr",
     "output_type": "stream",
     "text": [
      "c:\\Users\\HP\\AppData\\Local\\Programs\\Python\\Python313\\Lib\\site-packages\\statsmodels\\tsa\\base\\tsa_model.py:473: ValueWarning: No frequency information was provided, so inferred frequency D will be used.\n",
      "  self._init_dates(dates, freq)\n"
     ]
    }
   ],
   "source": [
    "for city in cities:\n",
    "    city_safe = city.replace(' ', '_').replace('[', '').replace(']', '')\n",
    "    try:\n",
    "        # Load train, val, test CSVs for this city\n",
    "        train_path = os.path.join(input_folder, f\"{city_safe}_train.csv\")\n",
    "        val_path = os.path.join(input_folder, f\"{city_safe}_val.csv\")\n",
    "        test_path = os.path.join(input_folder, f\"{city_safe}_test.csv\")\n",
    "\n",
    "        # Check if required files exist\n",
    "        if not (os.path.isfile(train_path) and os.path.isfile(val_path) and os.path.isfile(test_path)):\n",
    "            print(f\"[SKIP] Missing train/val/test files for city: {city}\")\n",
    "            continue\n",
    "\n",
    "        # Load data\n",
    "        train_df = pd.read_csv(train_path, parse_dates=['date']).sort_values('date').set_index('date')\n",
    "        val_df = pd.read_csv(val_path, parse_dates=['date']).sort_values('date').set_index('date')\n",
    "        test_df = pd.read_csv(test_path, parse_dates=['date']).sort_values('date').set_index('date')\n",
    "\n",
    "        # Required columns check\n",
    "        required_cols = ['temperature', 'rainfall', 'wind_speed']\n",
    "        if not all(col in train_df.columns for col in required_cols):\n",
    "            print(f\"[SKIP] Train CSV missing required columns for city: {city}\")\n",
    "            continue\n",
    "\n",
    "        # Select only required columns\n",
    "        train_data = train_df[required_cols]\n",
    "        val_data = val_df[required_cols]\n",
    "        test_data = test_df[required_cols]\n",
    "\n",
    "        # Train VAR model\n",
    "        model = VAR(train_data)\n",
    "        lag_order_results = model.select_order(maxlags=15)\n",
    "        lag_order = lag_order_results.aic\n",
    "        print(f\"\\nTraining VAR model for city: {city}\")\n",
    "        print(f\"Selected lag order (AIC): {lag_order}\")\n",
    "\n",
    "        results = model.fit(lag_order)\n",
    "\n",
    "        # Validate\n",
    "        forecast_vals = results.forecast(train_data.values[-lag_order:], steps=len(val_data))\n",
    "        forecast_df = pd.DataFrame(forecast_vals, index=val_data.index, columns=val_data.columns)\n",
    "\n",
    "        print(f\"Validation results for city: {city}\")\n",
    "        evaluate_model(val_data, forecast_df)\n",
    "\n",
    "        # Save the trained model as pickle file\n",
    "        model_filename = os.path.join(model_folder, f\"{city_safe}_var_model.pkl\")\n",
    "        with open(model_filename, 'wb') as f:\n",
    "            pickle.dump(results, f)\n",
    "        print(f\"Saved VAR model for {city} at {model_filename}\")\n",
    "\n",
    "    except Exception as e:\n",
    "        print(f\"[ERROR] Failed processing city {city}: {e}\")\n"
   ]
  }
 ],
 "metadata": {
  "kernelspec": {
   "display_name": "Python 3",
   "language": "python",
   "name": "python3"
  },
  "language_info": {
   "codemirror_mode": {
    "name": "ipython",
    "version": 3
   },
   "file_extension": ".py",
   "mimetype": "text/x-python",
   "name": "python",
   "nbconvert_exporter": "python",
   "pygments_lexer": "ipython3",
   "version": "3.13.2"
  }
 },
 "nbformat": 4,
 "nbformat_minor": 5
}
