{
 "cells": [
  {
   "cell_type": "code",
   "execution_count": 1,
   "id": "55b987bd",
   "metadata": {},
   "outputs": [],
   "source": [
    "def split_time_series(df, train_frac=0.7, val_frac=0.15, test_frac=0.15):\n",
    "    n = len(df)\n",
    "    train_end = int(n * train_frac)\n",
    "    val_end = train_end + int(n * val_frac)\n",
    "    \n",
    "    train = df.iloc[:train_end]\n",
    "    val = df.iloc[train_end:val_end]\n",
    "    test = df.iloc[val_end:]\n",
    "    \n",
    "    return train, val, test\n"
   ]
  },
  {
   "cell_type": "code",
   "execution_count": 2,
   "id": "fb0e2045",
   "metadata": {},
   "outputs": [
    {
     "name": "stdout",
     "output_type": "stream",
     "text": [
      "Saved splits for Ampara: train(3691), val(790), test(792)\n",
      "Saved splits for Anuradhapura: train(3691), val(790), test(792)\n",
      "Saved splits for Badulla: train(3691), val(790), test(792)\n",
      "Saved splits for Bandarawela: train(3691), val(790), test(792)\n",
      "Saved splits for Batticaloa: train(3691), val(790), test(792)\n",
      "Saved splits for Colombo: train(3691), val(790), test(792)\n",
      "Saved splits for Galle: train(3691), val(790), test(792)\n",
      "Saved splits for Gampaha: train(3691), val(790), test(792)\n",
      "Saved splits for Hambantota: train(3691), val(790), test(792)\n",
      "Saved splits for Jaffna: train(3691), val(790), test(792)\n",
      "Saved splits for Kalutara: train(3691), val(790), test(792)\n",
      "Saved splits for Kandy: train(3691), val(790), test(792)\n",
      "Saved splits for Kegalle: train(3691), val(790), test(792)\n",
      "Saved splits for Kilinochchi1: train(3691), val(790), test(792)\n",
      "Saved splits for Kurunegala: train(3691), val(790), test(792)\n",
      "Saved splits for Mannar: train(3691), val(790), test(792)\n",
      "Saved splits for Matale: train(3691), val(790), test(792)\n",
      "Saved splits for Matara: train(3691), val(790), test(792)\n",
      "Saved splits for Moneragala: train(3691), val(790), test(792)\n",
      "Saved splits for Mullaitivu: train(3691), val(790), test(792)\n",
      "Saved splits for Nuwara_Eliya: train(3691), val(790), test(792)\n",
      "Saved splits for Polonnaruwa: train(3691), val(790), test(792)\n",
      "Saved splits for Puttalam: train(3691), val(790), test(792)\n",
      "Saved splits for Ratnapura: train(3691), val(790), test(792)\n",
      "Saved splits for Trincomalee: train(3691), val(790), test(792)\n",
      "Saved splits for Vavuniya: train(3691), val(790), test(792)\n",
      "Saved splits for Welimada: train(3691), val(790), test(792)\n"
     ]
    }
   ],
   "source": [
    "import pandas as pd\n",
    "import os\n",
    "\n",
    "input_folder = 'city_wise_data'\n",
    "output_folder = 'city_wise_data_splits'\n",
    "os.makedirs(output_folder, exist_ok=True)\n",
    "\n",
    "cities_files = os.listdir(input_folder)\n",
    "\n",
    "for file in cities_files:\n",
    "    if file.endswith('.csv'):\n",
    "        city_name = file.replace('cleaned_weather_', '').replace('.csv', '')\n",
    "        df = pd.read_csv(os.path.join(input_folder, file), parse_dates=['date'])\n",
    "        \n",
    "        # Sort by date just to be sure\n",
    "        df = df.sort_values('date').reset_index(drop=True)\n",
    "        \n",
    "        # Split\n",
    "        train, val, test = split_time_series(df)\n",
    "        \n",
    "        # Save splits\n",
    "        train.to_csv(os.path.join(output_folder, f'{city_name}_train.csv'), index=False)\n",
    "        val.to_csv(os.path.join(output_folder, f'{city_name}_val.csv'), index=False)\n",
    "        test.to_csv(os.path.join(output_folder, f'{city_name}_test.csv'), index=False)\n",
    "        \n",
    "        print(f'Saved splits for {city_name}: train({len(train)}), val({len(val)}), test({len(test)})')\n"
   ]
  }
 ],
 "metadata": {
  "kernelspec": {
   "display_name": "Python 3",
   "language": "python",
   "name": "python3"
  },
  "language_info": {
   "codemirror_mode": {
    "name": "ipython",
    "version": 3
   },
   "file_extension": ".py",
   "mimetype": "text/x-python",
   "name": "python",
   "nbconvert_exporter": "python",
   "pygments_lexer": "ipython3",
   "version": "3.13.2"
  }
 },
 "nbformat": 4,
 "nbformat_minor": 5
}
