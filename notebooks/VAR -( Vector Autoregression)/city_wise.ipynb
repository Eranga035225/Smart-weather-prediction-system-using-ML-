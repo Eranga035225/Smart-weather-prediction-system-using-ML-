{
 "cells": [
  {
   "cell_type": "code",
   "execution_count": 1,
   "id": "8a91b067",
   "metadata": {},
   "outputs": [
    {
     "name": "stdout",
     "output_type": "stream",
     "text": [
      "Saved city_wise_data\\cleaned_weather_Colombo.csv with 5273 records\n",
      "Saved city_wise_data\\cleaned_weather_Gampaha.csv with 5273 records\n",
      "Saved city_wise_data\\cleaned_weather_Kalutara.csv with 5273 records\n",
      "Saved city_wise_data\\cleaned_weather_Kandy.csv with 5273 records\n",
      "Saved city_wise_data\\cleaned_weather_Matale.csv with 5273 records\n",
      "Saved city_wise_data\\cleaned_weather_Nuwara_Eliya.csv with 5273 records\n",
      "Saved city_wise_data\\cleaned_weather_Galle.csv with 5273 records\n",
      "Saved city_wise_data\\cleaned_weather_Matara.csv with 5273 records\n",
      "Saved city_wise_data\\cleaned_weather_Hambantota.csv with 5273 records\n",
      "Saved city_wise_data\\cleaned_weather_Jaffna.csv with 5273 records\n",
      "Saved city_wise_data\\cleaned_weather_Kilinochchi1.csv with 5273 records\n",
      "Saved city_wise_data\\cleaned_weather_Mannar.csv with 5273 records\n",
      "Saved city_wise_data\\cleaned_weather_Vavuniya.csv with 5273 records\n",
      "Saved city_wise_data\\cleaned_weather_Mullaitivu.csv with 5273 records\n",
      "Saved city_wise_data\\cleaned_weather_Batticaloa.csv with 5273 records\n",
      "Saved city_wise_data\\cleaned_weather_Ampara.csv with 5273 records\n",
      "Saved city_wise_data\\cleaned_weather_Trincomalee.csv with 5273 records\n",
      "Saved city_wise_data\\cleaned_weather_Kurunegala.csv with 5273 records\n",
      "Saved city_wise_data\\cleaned_weather_Puttalam.csv with 5273 records\n",
      "Saved city_wise_data\\cleaned_weather_Anuradhapura.csv with 5273 records\n",
      "Saved city_wise_data\\cleaned_weather_Polonnaruwa.csv with 5273 records\n",
      "Saved city_wise_data\\cleaned_weather_Badulla.csv with 5273 records\n",
      "Saved city_wise_data\\cleaned_weather_Moneragala.csv with 5273 records\n",
      "Saved city_wise_data\\cleaned_weather_Ratnapura.csv with 5273 records\n",
      "Saved city_wise_data\\cleaned_weather_Kegalle.csv with 5273 records\n",
      "Saved city_wise_data\\cleaned_weather_Welimada.csv with 5273 records\n",
      "Saved city_wise_data\\cleaned_weather_Bandarawela.csv with 5273 records\n"
     ]
    }
   ],
   "source": [
    "import pandas as pd\n",
    "import os\n",
    "\n",
    "# Load cleaned CSV file\n",
    "df = pd.read_csv('cleaned_weather_data.csv', parse_dates=['date'])\n",
    "\n",
    "# List of cities\n",
    "cities = [\n",
    "    \"Colombo\", \"Gampaha\", \"Kalutara\", \"Kandy\", \"Matale\", \"Nuwara Eliya\", \"Galle\", \"Matara\",\n",
    "    \"Hambantota\", \"Jaffna\", \"Kilinochchi[1]\", \"Mannar\", \"Vavuniya\", \"Mullaitivu\", \"Batticaloa\",\n",
    "    \"Ampara\", \"Trincomalee\", \"Kurunegala\", \"Puttalam\", \"Anuradhapura\", \"Polonnaruwa\", \"Badulla\",\n",
    "    \"Moneragala\", \"Ratnapura\", \"Kegalle\", \"Welimada\", \"Bandarawela\"\n",
    "]\n",
    "\n",
    "# Folder name to save city-wise CSVs\n",
    "output_folder = 'city_wise_data'\n",
    "\n",
    "# Create folder if not exists\n",
    "os.makedirs(output_folder, exist_ok=True)\n",
    "\n",
    "# Loop over each city, filter data, and save CSV inside folder\n",
    "for city in cities:\n",
    "    city_df = df[df['location'] == city].copy()\n",
    "    if not city_df.empty:\n",
    "        safe_city_name = city.replace(' ', '_').replace('[', '').replace(']', '')\n",
    "        filename = f'cleaned_weather_{safe_city_name}.csv'\n",
    "        filepath = os.path.join(output_folder, filename)\n",
    "        city_df.to_csv(filepath, index=False)\n",
    "        print(f'Saved {filepath} with {len(city_df)} records')\n",
    "    else:\n",
    "        print(f'No data found for city: {city}')\n"
   ]
  }
 ],
 "metadata": {
  "kernelspec": {
   "display_name": "Python 3",
   "language": "python",
   "name": "python3"
  },
  "language_info": {
   "codemirror_mode": {
    "name": "ipython",
    "version": 3
   },
   "file_extension": ".py",
   "mimetype": "text/x-python",
   "name": "python",
   "nbconvert_exporter": "python",
   "pygments_lexer": "ipython3",
   "version": "3.13.2"
  }
 },
 "nbformat": 4,
 "nbformat_minor": 5
}
