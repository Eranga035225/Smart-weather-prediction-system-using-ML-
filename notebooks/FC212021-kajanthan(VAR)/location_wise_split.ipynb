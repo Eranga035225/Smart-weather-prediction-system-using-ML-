{
 "cells": [
  {
   "cell_type": "code",
   "execution_count": 1,
   "id": "986fade4",
   "metadata": {},
   "outputs": [],
   "source": [
    "import pandas as pd\n",
    "import os"
   ]
  },
  {
   "cell_type": "code",
   "execution_count": 2,
   "id": "bdfbf6e1",
   "metadata": {},
   "outputs": [],
   "source": [
    "# Load the stationary CSV file (not the cleaned one)\n",
    "df = pd.read_csv('stationary_weather_data.csv', parse_dates=['date'])"
   ]
  },
  {
   "cell_type": "code",
   "execution_count": 3,
   "id": "29e78acb",
   "metadata": {},
   "outputs": [
    {
     "data": {
      "text/html": [
       "<div>\n",
       "<style scoped>\n",
       "    .dataframe tbody tr th:only-of-type {\n",
       "        vertical-align: middle;\n",
       "    }\n",
       "\n",
       "    .dataframe tbody tr th {\n",
       "        vertical-align: top;\n",
       "    }\n",
       "\n",
       "    .dataframe thead th {\n",
       "        text-align: right;\n",
       "    }\n",
       "</style>\n",
       "<table border=\"1\" class=\"dataframe\">\n",
       "  <thead>\n",
       "    <tr style=\"text-align: right;\">\n",
       "      <th></th>\n",
       "      <th>date</th>\n",
       "      <th>location_id</th>\n",
       "      <th>temperature</th>\n",
       "      <th>rainfall</th>\n",
       "      <th>wind_speed</th>\n",
       "      <th>precipitation</th>\n",
       "      <th>temperature_diff</th>\n",
       "    </tr>\n",
       "  </thead>\n",
       "  <tbody>\n",
       "    <tr>\n",
       "      <th>0</th>\n",
       "      <td>2010-01-01</td>\n",
       "      <td>0</td>\n",
       "      <td>26.0</td>\n",
       "      <td>0.0</td>\n",
       "      <td>12.2</td>\n",
       "      <td>0.0</td>\n",
       "      <td>NaN</td>\n",
       "    </tr>\n",
       "    <tr>\n",
       "      <th>1</th>\n",
       "      <td>2010-01-02</td>\n",
       "      <td>0</td>\n",
       "      <td>26.4</td>\n",
       "      <td>15.7</td>\n",
       "      <td>11.6</td>\n",
       "      <td>15.7</td>\n",
       "      <td>NaN</td>\n",
       "    </tr>\n",
       "    <tr>\n",
       "      <th>2</th>\n",
       "      <td>2010-01-03</td>\n",
       "      <td>0</td>\n",
       "      <td>28.0</td>\n",
       "      <td>0.0</td>\n",
       "      <td>13.0</td>\n",
       "      <td>0.0</td>\n",
       "      <td>NaN</td>\n",
       "    </tr>\n",
       "    <tr>\n",
       "      <th>3</th>\n",
       "      <td>2010-01-04</td>\n",
       "      <td>0</td>\n",
       "      <td>27.5</td>\n",
       "      <td>7.4</td>\n",
       "      <td>13.6</td>\n",
       "      <td>7.4</td>\n",
       "      <td>NaN</td>\n",
       "    </tr>\n",
       "    <tr>\n",
       "      <th>4</th>\n",
       "      <td>2010-01-05</td>\n",
       "      <td>0</td>\n",
       "      <td>27.7</td>\n",
       "      <td>9.6</td>\n",
       "      <td>10.3</td>\n",
       "      <td>9.6</td>\n",
       "      <td>NaN</td>\n",
       "    </tr>\n",
       "  </tbody>\n",
       "</table>\n",
       "</div>"
      ],
      "text/plain": [
       "        date  location_id  temperature  rainfall  wind_speed  precipitation  \\\n",
       "0 2010-01-01            0         26.0       0.0        12.2            0.0   \n",
       "1 2010-01-02            0         26.4      15.7        11.6           15.7   \n",
       "2 2010-01-03            0         28.0       0.0        13.0            0.0   \n",
       "3 2010-01-04            0         27.5       7.4        13.6            7.4   \n",
       "4 2010-01-05            0         27.7       9.6        10.3            9.6   \n",
       "\n",
       "   temperature_diff  \n",
       "0               NaN  \n",
       "1               NaN  \n",
       "2               NaN  \n",
       "3               NaN  \n",
       "4               NaN  "
      ]
     },
     "execution_count": 3,
     "metadata": {},
     "output_type": "execute_result"
    }
   ],
   "source": [
    "df.head()"
   ]
  },
  {
   "cell_type": "code",
   "execution_count": 4,
   "id": "2d93f680",
   "metadata": {},
   "outputs": [],
   "source": [
    "# Get unique location IDs (or location names if available)\n",
    "unique_locations = df['location_id'].unique()"
   ]
  },
  {
   "cell_type": "code",
   "execution_count": 5,
   "id": "41102ed4",
   "metadata": {},
   "outputs": [],
   "source": [
    "# Folder to save location-wise CSVs\n",
    "output_folder = 'location_wise_data'"
   ]
  },
  {
   "cell_type": "code",
   "execution_count": 6,
   "id": "3c193047",
   "metadata": {},
   "outputs": [],
   "source": [
    "# Create folder if it doesn't exist\n",
    "os.makedirs(output_folder, exist_ok=True)"
   ]
  },
  {
   "cell_type": "code",
   "execution_count": 7,
   "id": "a2d15202",
   "metadata": {},
   "outputs": [
    {
     "name": "stdout",
     "output_type": "stream",
     "text": [
      "Saved location_wise_data\\location_0.csv with 5273 records\n",
      "Saved location_wise_data\\location_1.csv with 5273 records\n",
      "Saved location_wise_data\\location_2.csv with 5273 records\n",
      "Saved location_wise_data\\location_3.csv with 5273 records\n",
      "Saved location_wise_data\\location_4.csv with 5273 records\n",
      "Saved location_wise_data\\location_5.csv with 5272 records\n",
      "Saved location_wise_data\\location_6.csv with 5273 records\n",
      "Saved location_wise_data\\location_7.csv with 5273 records\n",
      "Saved location_wise_data\\location_8.csv with 5273 records\n",
      "Saved location_wise_data\\location_9.csv with 5273 records\n",
      "Saved location_wise_data\\location_10.csv with 5273 records\n",
      "Saved location_wise_data\\location_11.csv with 5273 records\n",
      "Saved location_wise_data\\location_12.csv with 5273 records\n",
      "Saved location_wise_data\\location_13.csv with 5273 records\n",
      "Saved location_wise_data\\location_14.csv with 5273 records\n",
      "Saved location_wise_data\\location_15.csv with 5273 records\n",
      "Saved location_wise_data\\location_16.csv with 5273 records\n",
      "Saved location_wise_data\\location_17.csv with 5273 records\n",
      "Saved location_wise_data\\location_18.csv with 5273 records\n",
      "Saved location_wise_data\\location_19.csv with 5273 records\n",
      "Saved location_wise_data\\location_20.csv with 5273 records\n",
      "Saved location_wise_data\\location_21.csv with 5273 records\n",
      "Saved location_wise_data\\location_22.csv with 5273 records\n",
      "Saved location_wise_data\\location_23.csv with 5273 records\n",
      "Saved location_wise_data\\location_24.csv with 5273 records\n",
      "Saved location_wise_data\\location_25.csv with 5273 records\n",
      "Saved location_wise_data\\location_26.csv with 5273 records\n"
     ]
    }
   ],
   "source": [
    "# Loop over each location and save its data separately\n",
    "for loc in unique_locations:\n",
    "    loc_df = df[df['location_id'] == loc].copy()\n",
    "    if not loc_df.empty:\n",
    "        # Make filename safe\n",
    "        safe_loc_name = str(loc).replace(' ', '_').replace('[', '').replace(']', '')\n",
    "        filename = f'location_{safe_loc_name}.csv'\n",
    "        filepath = os.path.join(output_folder, filename)\n",
    "        loc_df.to_csv(filepath, index=False)\n",
    "        print(f'Saved {filepath} with {len(loc_df)} records')\n",
    "    else:\n",
    "        print(f'No data found for location_id: {loc}')"
   ]
  }
 ],
 "metadata": {
  "kernelspec": {
   "display_name": "Python 3",
   "language": "python",
   "name": "python3"
  },
  "language_info": {
   "codemirror_mode": {
    "name": "ipython",
    "version": 3
   },
   "file_extension": ".py",
   "mimetype": "text/x-python",
   "name": "python",
   "nbconvert_exporter": "python",
   "pygments_lexer": "ipython3",
   "version": "3.13.2"
  }
 },
 "nbformat": 4,
 "nbformat_minor": 5
}
