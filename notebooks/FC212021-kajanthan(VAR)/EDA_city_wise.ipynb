{
 "cells": [
  {
   "cell_type": "code",
   "execution_count": 1,
   "id": "734f3d10",
   "metadata": {},
   "outputs": [],
   "source": [
    "import os\n",
    "import pandas as pd\n",
    "import matplotlib.pyplot as plt\n",
    "import seaborn as sns\n",
    "from tqdm import tqdm"
   ]
  },
  {
   "cell_type": "code",
   "execution_count": 2,
   "id": "1c0589f4",
   "metadata": {},
   "outputs": [],
   "source": [
    "# Load cleaned weather dataset\n",
    "df = pd.read_csv('cleaned_weather_data.csv', parse_dates=['date'])"
   ]
  },
  {
   "cell_type": "code",
   "execution_count": 3,
   "id": "02b42f47",
   "metadata": {},
   "outputs": [
    {
     "data": {
      "text/html": [
       "<div>\n",
       "<style scoped>\n",
       "    .dataframe tbody tr th:only-of-type {\n",
       "        vertical-align: middle;\n",
       "    }\n",
       "\n",
       "    .dataframe tbody tr th {\n",
       "        vertical-align: top;\n",
       "    }\n",
       "\n",
       "    .dataframe thead th {\n",
       "        text-align: right;\n",
       "    }\n",
       "</style>\n",
       "<table border=\"1\" class=\"dataframe\">\n",
       "  <thead>\n",
       "    <tr style=\"text-align: right;\">\n",
       "      <th></th>\n",
       "      <th>date</th>\n",
       "      <th>location_id</th>\n",
       "      <th>temperature</th>\n",
       "      <th>rainfall</th>\n",
       "      <th>wind_speed</th>\n",
       "      <th>precipitation</th>\n",
       "    </tr>\n",
       "  </thead>\n",
       "  <tbody>\n",
       "    <tr>\n",
       "      <th>0</th>\n",
       "      <td>2010-01-01</td>\n",
       "      <td>0</td>\n",
       "      <td>26.0</td>\n",
       "      <td>0.0</td>\n",
       "      <td>12.2</td>\n",
       "      <td>0.0</td>\n",
       "    </tr>\n",
       "    <tr>\n",
       "      <th>1</th>\n",
       "      <td>2010-01-02</td>\n",
       "      <td>0</td>\n",
       "      <td>26.4</td>\n",
       "      <td>15.7</td>\n",
       "      <td>11.6</td>\n",
       "      <td>15.7</td>\n",
       "    </tr>\n",
       "    <tr>\n",
       "      <th>2</th>\n",
       "      <td>2010-01-03</td>\n",
       "      <td>0</td>\n",
       "      <td>28.0</td>\n",
       "      <td>0.0</td>\n",
       "      <td>13.0</td>\n",
       "      <td>0.0</td>\n",
       "    </tr>\n",
       "    <tr>\n",
       "      <th>3</th>\n",
       "      <td>2010-01-04</td>\n",
       "      <td>0</td>\n",
       "      <td>27.5</td>\n",
       "      <td>7.4</td>\n",
       "      <td>13.6</td>\n",
       "      <td>7.4</td>\n",
       "    </tr>\n",
       "    <tr>\n",
       "      <th>4</th>\n",
       "      <td>2010-01-05</td>\n",
       "      <td>0</td>\n",
       "      <td>27.7</td>\n",
       "      <td>9.6</td>\n",
       "      <td>10.3</td>\n",
       "      <td>9.6</td>\n",
       "    </tr>\n",
       "  </tbody>\n",
       "</table>\n",
       "</div>"
      ],
      "text/plain": [
       "        date  location_id  temperature  rainfall  wind_speed  precipitation\n",
       "0 2010-01-01            0         26.0       0.0        12.2            0.0\n",
       "1 2010-01-02            0         26.4      15.7        11.6           15.7\n",
       "2 2010-01-03            0         28.0       0.0        13.0            0.0\n",
       "3 2010-01-04            0         27.5       7.4        13.6            7.4\n",
       "4 2010-01-05            0         27.7       9.6        10.3            9.6"
      ]
     },
     "execution_count": 3,
     "metadata": {},
     "output_type": "execute_result"
    }
   ],
   "source": [
    "df.head()"
   ]
  },
  {
   "cell_type": "code",
   "execution_count": 4,
   "id": "f42a038a",
   "metadata": {},
   "outputs": [],
   "source": [
    "# Variables to analyze\n",
    "variables = ['temperature', 'rainfall', 'wind_speed', 'precipitation']"
   ]
  },
  {
   "cell_type": "code",
   "execution_count": 5,
   "id": "d9e030b8",
   "metadata": {},
   "outputs": [],
   "source": [
    "# Create folders to save EDA plots\n",
    "os.makedirs('eda_plots/time_series', exist_ok=True)\n",
    "os.makedirs('eda_plots/correlation', exist_ok=True)\n",
    "os.makedirs('eda_plots/seasonality_trends', exist_ok=True)\n",
    "os.makedirs('eda_plots/outliers', exist_ok=True)"
   ]
  },
  {
   "cell_type": "code",
   "execution_count": 6,
   "id": "b5bdbf66",
   "metadata": {},
   "outputs": [],
   "source": [
    "# Get unique location_ids\n",
    "locations = df['location_id'].unique()\n",
    "summary_list = []"
   ]
  },
  {
   "cell_type": "code",
   "execution_count": 7,
   "id": "4cad346d",
   "metadata": {},
   "outputs": [
    {
     "name": "stderr",
     "output_type": "stream",
     "text": [
      "Performing EDA per location:   0%|          | 0/27 [00:00<?, ?it/s]"
     ]
    },
    {
     "name": "stdout",
     "output_type": "stream",
     "text": [
      "\n",
      "Processing Location: 0\n"
     ]
    },
    {
     "name": "stderr",
     "output_type": "stream",
     "text": [
      "Performing EDA per location:   4%|▎         | 1/27 [00:01<00:36,  1.39s/it]"
     ]
    },
    {
     "name": "stdout",
     "output_type": "stream",
     "text": [
      "\n",
      "Processing Location: 1\n"
     ]
    },
    {
     "name": "stderr",
     "output_type": "stream",
     "text": [
      "Performing EDA per location:   7%|▋         | 2/27 [00:02<00:33,  1.33s/it]"
     ]
    },
    {
     "name": "stdout",
     "output_type": "stream",
     "text": [
      "\n",
      "Processing Location: 2\n"
     ]
    },
    {
     "name": "stderr",
     "output_type": "stream",
     "text": [
      "Performing EDA per location:  11%|█         | 3/27 [00:03<00:31,  1.31s/it]"
     ]
    },
    {
     "name": "stdout",
     "output_type": "stream",
     "text": [
      "\n",
      "Processing Location: 3\n"
     ]
    },
    {
     "name": "stderr",
     "output_type": "stream",
     "text": [
      "Performing EDA per location:  15%|█▍        | 4/27 [00:05<00:31,  1.38s/it]"
     ]
    },
    {
     "name": "stdout",
     "output_type": "stream",
     "text": [
      "\n",
      "Processing Location: 4\n"
     ]
    },
    {
     "name": "stderr",
     "output_type": "stream",
     "text": [
      "Performing EDA per location:  19%|█▊        | 5/27 [00:06<00:30,  1.37s/it]"
     ]
    },
    {
     "name": "stdout",
     "output_type": "stream",
     "text": [
      "\n",
      "Processing Location: 5\n"
     ]
    },
    {
     "name": "stderr",
     "output_type": "stream",
     "text": [
      "Performing EDA per location:  22%|██▏       | 6/27 [00:08<00:30,  1.46s/it]"
     ]
    },
    {
     "name": "stdout",
     "output_type": "stream",
     "text": [
      "\n",
      "Processing Location: 6\n"
     ]
    },
    {
     "name": "stderr",
     "output_type": "stream",
     "text": [
      "Performing EDA per location:  26%|██▌       | 7/27 [00:10<00:30,  1.50s/it]"
     ]
    },
    {
     "name": "stdout",
     "output_type": "stream",
     "text": [
      "\n",
      "Processing Location: 7\n"
     ]
    },
    {
     "name": "stderr",
     "output_type": "stream",
     "text": [
      "Performing EDA per location:  30%|██▉       | 8/27 [00:11<00:27,  1.43s/it]"
     ]
    },
    {
     "name": "stdout",
     "output_type": "stream",
     "text": [
      "\n",
      "Processing Location: 8\n"
     ]
    },
    {
     "name": "stderr",
     "output_type": "stream",
     "text": [
      "Performing EDA per location:  33%|███▎      | 9/27 [00:12<00:25,  1.39s/it]"
     ]
    },
    {
     "name": "stdout",
     "output_type": "stream",
     "text": [
      "\n",
      "Processing Location: 9\n"
     ]
    },
    {
     "name": "stderr",
     "output_type": "stream",
     "text": [
      "Performing EDA per location:  37%|███▋      | 10/27 [00:14<00:24,  1.42s/it]"
     ]
    },
    {
     "name": "stdout",
     "output_type": "stream",
     "text": [
      "\n",
      "Processing Location: 10\n"
     ]
    },
    {
     "name": "stderr",
     "output_type": "stream",
     "text": [
      "Performing EDA per location:  41%|████      | 11/27 [00:15<00:22,  1.39s/it]"
     ]
    },
    {
     "name": "stdout",
     "output_type": "stream",
     "text": [
      "\n",
      "Processing Location: 11\n"
     ]
    },
    {
     "name": "stderr",
     "output_type": "stream",
     "text": [
      "Performing EDA per location:  44%|████▍     | 12/27 [00:16<00:20,  1.34s/it]"
     ]
    },
    {
     "name": "stdout",
     "output_type": "stream",
     "text": [
      "\n",
      "Processing Location: 12\n"
     ]
    },
    {
     "name": "stderr",
     "output_type": "stream",
     "text": [
      "Performing EDA per location:  48%|████▊     | 13/27 [00:18<00:19,  1.41s/it]"
     ]
    },
    {
     "name": "stdout",
     "output_type": "stream",
     "text": [
      "\n",
      "Processing Location: 13\n"
     ]
    },
    {
     "name": "stderr",
     "output_type": "stream",
     "text": [
      "Performing EDA per location:  52%|█████▏    | 14/27 [00:19<00:17,  1.36s/it]"
     ]
    },
    {
     "name": "stdout",
     "output_type": "stream",
     "text": [
      "\n",
      "Processing Location: 14\n"
     ]
    },
    {
     "name": "stderr",
     "output_type": "stream",
     "text": [
      "Performing EDA per location:  56%|█████▌    | 15/27 [00:20<00:16,  1.35s/it]"
     ]
    },
    {
     "name": "stdout",
     "output_type": "stream",
     "text": [
      "\n",
      "Processing Location: 15\n"
     ]
    },
    {
     "name": "stderr",
     "output_type": "stream",
     "text": [
      "Performing EDA per location:  59%|█████▉    | 16/27 [00:22<00:14,  1.33s/it]"
     ]
    },
    {
     "name": "stdout",
     "output_type": "stream",
     "text": [
      "\n",
      "Processing Location: 16\n"
     ]
    },
    {
     "name": "stderr",
     "output_type": "stream",
     "text": [
      "Performing EDA per location:  63%|██████▎   | 17/27 [00:23<00:13,  1.33s/it]"
     ]
    },
    {
     "name": "stdout",
     "output_type": "stream",
     "text": [
      "\n",
      "Processing Location: 17\n"
     ]
    },
    {
     "name": "stderr",
     "output_type": "stream",
     "text": [
      "Performing EDA per location:  67%|██████▋   | 18/27 [00:24<00:11,  1.31s/it]"
     ]
    },
    {
     "name": "stdout",
     "output_type": "stream",
     "text": [
      "\n",
      "Processing Location: 18\n"
     ]
    },
    {
     "name": "stderr",
     "output_type": "stream",
     "text": [
      "Performing EDA per location:  70%|███████   | 19/27 [00:26<00:10,  1.35s/it]"
     ]
    },
    {
     "name": "stdout",
     "output_type": "stream",
     "text": [
      "\n",
      "Processing Location: 19\n"
     ]
    },
    {
     "name": "stderr",
     "output_type": "stream",
     "text": [
      "Performing EDA per location:  74%|███████▍  | 20/27 [00:27<00:09,  1.37s/it]"
     ]
    },
    {
     "name": "stdout",
     "output_type": "stream",
     "text": [
      "\n",
      "Processing Location: 20\n"
     ]
    },
    {
     "name": "stderr",
     "output_type": "stream",
     "text": [
      "Performing EDA per location:  78%|███████▊  | 21/27 [00:28<00:08,  1.34s/it]"
     ]
    },
    {
     "name": "stdout",
     "output_type": "stream",
     "text": [
      "\n",
      "Processing Location: 21\n"
     ]
    },
    {
     "name": "stderr",
     "output_type": "stream",
     "text": [
      "Performing EDA per location:  81%|████████▏ | 22/27 [00:30<00:06,  1.32s/it]"
     ]
    },
    {
     "name": "stdout",
     "output_type": "stream",
     "text": [
      "\n",
      "Processing Location: 22\n"
     ]
    },
    {
     "name": "stderr",
     "output_type": "stream",
     "text": [
      "Performing EDA per location:  85%|████████▌ | 23/27 [00:31<00:05,  1.31s/it]"
     ]
    },
    {
     "name": "stdout",
     "output_type": "stream",
     "text": [
      "\n",
      "Processing Location: 23\n"
     ]
    },
    {
     "name": "stderr",
     "output_type": "stream",
     "text": [
      "Performing EDA per location:  89%|████████▉ | 24/27 [00:32<00:03,  1.31s/it]"
     ]
    },
    {
     "name": "stdout",
     "output_type": "stream",
     "text": [
      "\n",
      "Processing Location: 24\n"
     ]
    },
    {
     "name": "stderr",
     "output_type": "stream",
     "text": [
      "Performing EDA per location:  93%|█████████▎| 25/27 [00:34<00:02,  1.32s/it]"
     ]
    },
    {
     "name": "stdout",
     "output_type": "stream",
     "text": [
      "\n",
      "Processing Location: 25\n"
     ]
    },
    {
     "name": "stderr",
     "output_type": "stream",
     "text": [
      "Performing EDA per location:  96%|█████████▋| 26/27 [00:35<00:01,  1.33s/it]"
     ]
    },
    {
     "name": "stdout",
     "output_type": "stream",
     "text": [
      "\n",
      "Processing Location: 26\n"
     ]
    },
    {
     "name": "stderr",
     "output_type": "stream",
     "text": [
      "Performing EDA per location: 100%|██████████| 27/27 [00:37<00:00,  1.37s/it]\n"
     ]
    }
   ],
   "source": [
    "# Loop over each location using progress bar\n",
    "for loc in tqdm(locations, desc=\"Performing EDA per location\"):\n",
    "    try:\n",
    "        print(f\"\\nProcessing Location: {loc}\")\n",
    "        city_df = df[df['location_id'] == loc].copy()\n",
    "        city_df.set_index('date', inplace=True)\n",
    "\n",
    "        # ---- 1. Time Series Plots ----\n",
    "        for var in variables:\n",
    "            plt.figure(figsize=(12, 4))\n",
    "            plt.plot(city_df[var])\n",
    "            plt.title(f\"{var.capitalize()} over time - Location: {loc}\")\n",
    "            plt.xlabel('Date')\n",
    "            plt.ylabel(var.capitalize())\n",
    "            plt.grid(True)\n",
    "            plt.tight_layout()\n",
    "            plt.savefig(f\"eda_plots/time_series/{loc}_{var}.png\")\n",
    "            plt.close()\n",
    "\n",
    "        # ---- 2. Correlation Matrix ----\n",
    "        plt.figure(figsize=(8, 6))\n",
    "        corr = city_df[variables].corr()\n",
    "        sns.heatmap(corr, annot=True, cmap='coolwarm', vmin=-1, vmax=1)\n",
    "        plt.title(f'Correlation Matrix - Location: {loc}')\n",
    "        plt.tight_layout()\n",
    "        plt.savefig(f\"eda_plots/correlation/{loc}_correlation.png\")\n",
    "        plt.close()\n",
    "\n",
    "        # ---- 3. Summary Statistics + Missing Value Count ----\n",
    "        summary_stats = city_df[variables].describe().T\n",
    "        summary_stats['missing_values'] = city_df[variables].isnull().sum()\n",
    "        summary_stats['location'] = loc\n",
    "        summary_list.append(summary_stats.reset_index())\n",
    "\n",
    "        # Optional: Warn if missing values found\n",
    "        if summary_stats['missing_values'].sum() > 0:\n",
    "            print(f\"Missing values found for location {loc}\")\n",
    "\n",
    "        # ---- 4. Rolling Trend Analysis (Temperature) ----\n",
    "        window = 30\n",
    "        rolling_mean = city_df['temperature'].rolling(window=window).mean()\n",
    "        rolling_std = city_df['temperature'].rolling(window=window).std()\n",
    "\n",
    "        plt.figure(figsize=(12, 5))\n",
    "        plt.plot(city_df['temperature'], label='Temperature')\n",
    "        plt.plot(rolling_mean, label=f'{window}-day Rolling Mean')\n",
    "        plt.plot(rolling_std, label=f'{window}-day Rolling Std')\n",
    "        plt.title(f'Temperature Trend & Seasonality - Location: {loc}')\n",
    "        plt.legend()\n",
    "        plt.tight_layout()\n",
    "        plt.savefig(f\"eda_plots/seasonality_trends/{loc}_temperature_trend.png\")\n",
    "        plt.close()\n",
    "\n",
    "        # ---- 5. Outlier Detection (Boxplot) ----\n",
    "        plt.figure(figsize=(12, 6))\n",
    "        sns.boxplot(data=city_df[variables])\n",
    "        plt.title(f'Outlier Detection (Boxplot) - Location: {loc}')\n",
    "        plt.tight_layout()\n",
    "        plt.savefig(f\"eda_plots/outliers/{loc}_outliers_boxplot.png\")\n",
    "        plt.close()\n",
    "\n",
    "    except Exception as e:\n",
    "        print(f\"Error processing location {loc}: {e}\")"
   ]
  },
  {
   "cell_type": "code",
   "execution_count": 8,
   "id": "eb6e4a32",
   "metadata": {},
   "outputs": [
    {
     "name": "stdout",
     "output_type": "stream",
     "text": [
      "\n",
      "EDA complete!\n",
      "All plots saved inside the 'eda_plots' folder.\n",
      "Summary statistics saved to: 'eda_plots/summary_statistics_all_locations.csv'\n"
     ]
    }
   ],
   "source": [
    "# ---- 6. Combine & Save Summary Stats for All Locations ----\n",
    "all_summary_df = pd.concat(summary_list, ignore_index=True)\n",
    "all_summary_df.to_csv('eda_plots/summary_statistics_all_locations.csv', index=False)\n",
    "\n",
    "print(\"\\nEDA complete!\")\n",
    "print(\"All plots saved inside the 'eda_plots' folder.\")\n",
    "print(\"Summary statistics saved to: 'eda_plots/summary_statistics_all_locations.csv'\")\n"
   ]
  }
 ],
 "metadata": {
  "kernelspec": {
   "display_name": "Python 3",
   "language": "python",
   "name": "python3"
  },
  "language_info": {
   "codemirror_mode": {
    "name": "ipython",
    "version": 3
   },
   "file_extension": ".py",
   "mimetype": "text/x-python",
   "name": "python",
   "nbconvert_exporter": "python",
   "pygments_lexer": "ipython3",
   "version": "3.13.2"
  }
 },
 "nbformat": 4,
 "nbformat_minor": 5
}
