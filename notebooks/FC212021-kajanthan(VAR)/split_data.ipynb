{
 "cells": [
  {
   "cell_type": "code",
   "execution_count": 1,
   "id": "b0dd0aa6",
   "metadata": {},
   "outputs": [],
   "source": [
    "import pandas as pd\n",
    "import os"
   ]
  },
  {
   "cell_type": "code",
   "execution_count": 2,
   "id": "3629cecf",
   "metadata": {},
   "outputs": [],
   "source": [
    "input_folder = 'location_wise_data'\n",
    "output_folder = 'train_val_test_splits'\n",
    "os.makedirs(output_folder, exist_ok=True)\n",
    "\n",
    "location_files = os.listdir(input_folder)"
   ]
  },
  {
   "cell_type": "code",
   "execution_count": 3,
   "id": "55b987bd",
   "metadata": {},
   "outputs": [],
   "source": [
    "def split_time_series(df, train_frac=0.7, val_frac=0.15, test_frac=0.15):\n",
    "    n = len(df)\n",
    "    train_end = int(n * train_frac)\n",
    "    val_end = train_end + int(n * val_frac)\n",
    "    \n",
    "    train = df.iloc[:train_end]\n",
    "    val = df.iloc[train_end:val_end]\n",
    "    test = df.iloc[val_end:]\n",
    "    \n",
    "    return train, val, test\n"
   ]
  },
  {
   "cell_type": "code",
   "execution_count": 4,
   "id": "fb0e2045",
   "metadata": {},
   "outputs": [
    {
     "name": "stdout",
     "output_type": "stream",
     "text": [
      "Saved splits for location_0.csv: train(3691), val(790), test(792)\n",
      "Saved splits for location_1.csv: train(3691), val(790), test(792)\n",
      "Saved splits for location_10.csv: train(3691), val(790), test(792)\n",
      "Saved splits for location_11.csv: train(3691), val(790), test(792)\n",
      "Saved splits for location_12.csv: train(3691), val(790), test(792)\n",
      "Saved splits for location_13.csv: train(3691), val(790), test(792)\n",
      "Saved splits for location_14.csv: train(3691), val(790), test(792)\n",
      "Saved splits for location_15.csv: train(3691), val(790), test(792)\n",
      "Saved splits for location_16.csv: train(3691), val(790), test(792)\n",
      "Saved splits for location_17.csv: train(3691), val(790), test(792)\n",
      "Saved splits for location_18.csv: train(3691), val(790), test(792)\n",
      "Saved splits for location_19.csv: train(3691), val(790), test(792)\n",
      "Saved splits for location_2.csv: train(3691), val(790), test(792)\n",
      "Saved splits for location_20.csv: train(3691), val(790), test(792)\n",
      "Saved splits for location_21.csv: train(3691), val(790), test(792)\n",
      "Saved splits for location_22.csv: train(3691), val(790), test(792)\n",
      "Saved splits for location_23.csv: train(3691), val(790), test(792)\n",
      "Saved splits for location_24.csv: train(3691), val(790), test(792)\n",
      "Saved splits for location_25.csv: train(3691), val(790), test(792)\n",
      "Saved splits for location_26.csv: train(3691), val(790), test(792)\n",
      "Saved splits for location_3.csv: train(3691), val(790), test(792)\n",
      "Saved splits for location_4.csv: train(3691), val(790), test(792)\n",
      "Saved splits for location_5.csv: train(3690), val(790), test(792)\n",
      "Saved splits for location_6.csv: train(3691), val(790), test(792)\n",
      "Saved splits for location_7.csv: train(3691), val(790), test(792)\n",
      "Saved splits for location_8.csv: train(3691), val(790), test(792)\n",
      "Saved splits for location_9.csv: train(3691), val(790), test(792)\n"
     ]
    }
   ],
   "source": [
    "for file in location_files:\n",
    "    if file.endswith('.csv'):\n",
    "        location_name = file.replace('location_', '').replace('.csv', '')\n",
    "        df = pd.read_csv(os.path.join(input_folder, file), parse_dates=['date'])\n",
    "        \n",
    "        # Sort by date just to be sure\n",
    "        df = df.sort_values('date').reset_index(drop=True)\n",
    "        \n",
    "        # Split\n",
    "        train, val, test = split_time_series(df)\n",
    "        \n",
    "        # Save splits\n",
    "        train.to_csv(os.path.join(output_folder, f'{location_name}_train.csv'), index=False)\n",
    "        val.to_csv(os.path.join(output_folder, f'{location_name}_val.csv'), index=False)\n",
    "        test.to_csv(os.path.join(output_folder, f'{location_name}_test.csv'), index=False)\n",
    "        \n",
    "        print(f'Saved splits for {file}: train({len(train)}), val({len(val)}), test({len(test)})')\n"
   ]
  }
 ],
 "metadata": {
  "kernelspec": {
   "display_name": "Python 3",
   "language": "python",
   "name": "python3"
  },
  "language_info": {
   "codemirror_mode": {
    "name": "ipython",
    "version": 3
   },
   "file_extension": ".py",
   "mimetype": "text/x-python",
   "name": "python",
   "nbconvert_exporter": "python",
   "pygments_lexer": "ipython3",
   "version": "3.13.2"
  }
 },
 "nbformat": 4,
 "nbformat_minor": 5
}
